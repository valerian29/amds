{
 "cells": [
  {
   "cell_type": "markdown",
   "metadata": {},
   "source": [
    "# Data Analysis with Pandas\n",
    "\n",
    "This tutorial gives a first introduction into the most important library for data analysis in Python, Pandas. After a brief introduction into Pandas, it will demo how data can be easily retrieved from a website, how it can be cleaned, and how it can be reshaped.\n",
    "\n",
    "Let us begin by importing `pandas` into our namespace."
   ]
  },
  {
   "cell_type": "code",
   "execution_count": 1,
   "metadata": {},
   "outputs": [],
   "source": [
    "import pandas as pd"
   ]
  },
  {
   "cell_type": "markdown",
   "metadata": {},
   "source": [
    "## Series\n",
    "\n",
    "Pandas Series is based on the Numpy arrays but allow to index the individual elements using text labels, date, time, etc., which facilitates importing data, running queries, and merging multiple Series.\n",
    "\n",
    "Let us create a simple series of population by continent. We can create the Series by using a Python `dict`."
   ]
  },
  {
   "cell_type": "code",
   "execution_count": 2,
   "metadata": {},
   "outputs": [
    {
     "data": {
      "text/plain": [
       "Africa           1.216000e+09\n",
       "Antartica                 NaN\n",
       "Asia             4.463000e+09\n",
       "Australia        2.413000e+07\n",
       "Europe           7.414000e+08\n",
       "North America    5.790000e+08\n",
       "South America    4.225000e+08\n",
       "dtype: float64"
      ]
     },
     "execution_count": 2,
     "metadata": {},
     "output_type": "execute_result"
    }
   ],
   "source": [
    "s = pd.Series({\"Africa\": 1216000000,\n",
    "               \"Antartica\": None,\n",
    "               \"Asia\": 4463000000, \n",
    "               \"Australia\": 24130000, \n",
    "               \"Europe\":741400000, \n",
    "               \"North America\": 579000000, \n",
    "               \"South America\": 422500000})\n",
    "s"
   ]
  },
  {
   "cell_type": "markdown",
   "metadata": {},
   "source": [
    "Another way is to pass data and labels separately. The advantage of this is that we can generate the index to match the number of data items."
   ]
  },
  {
   "cell_type": "code",
   "execution_count": 3,
   "metadata": {},
   "outputs": [
    {
     "data": {
      "text/plain": [
       "Africa           1.216000e+09\n",
       "Antartica                 NaN\n",
       "Asia             4.463000e+09\n",
       "Australia        2.413000e+07\n",
       "Europe           7.414000e+08\n",
       "North America    5.790000e+08\n",
       "South America    4.225000e+08\n",
       "dtype: float64"
      ]
     },
     "execution_count": 3,
     "metadata": {},
     "output_type": "execute_result"
    }
   ],
   "source": [
    "s = pd.Series(data=[1216000000, None, 4463000000, 24130000, 741400000, 579000000, 422500000],\n",
    "              index=[\"Africa\", \"Antartica\", \"Asia\", \"Australia\", \"Europe\", \"North America\",\"South America\"])\n",
    "s"
   ]
  },
  {
   "cell_type": "markdown",
   "metadata": {},
   "source": [
    "If we do not want to see all data at once, but just have a look at the first three rows, we can write."
   ]
  },
  {
   "cell_type": "code",
   "execution_count": 4,
   "metadata": {},
   "outputs": [
    {
     "data": {
      "text/plain": [
       "Africa       1.216000e+09\n",
       "Antartica             NaN\n",
       "Asia         4.463000e+09\n",
       "dtype: float64"
      ]
     },
     "execution_count": 4,
     "metadata": {},
     "output_type": "execute_result"
    }
   ],
   "source": [
    "s.head(3)"
   ]
  },
  {
   "cell_type": "markdown",
   "metadata": {},
   "source": [
    "We can do the same for the last three rows."
   ]
  },
  {
   "cell_type": "code",
   "execution_count": 5,
   "metadata": {},
   "outputs": [
    {
     "data": {
      "text/plain": [
       "Europe           741400000.0\n",
       "North America    579000000.0\n",
       "South America    422500000.0\n",
       "dtype: float64"
      ]
     },
     "execution_count": 5,
     "metadata": {},
     "output_type": "execute_result"
    }
   ],
   "source": [
    "s.tail(3)"
   ]
  },
  {
   "cell_type": "markdown",
   "metadata": {},
   "source": [
    "These functions are handy to do quick check-ups whether the data looks ok. It will hardly be useful for indexing. As the underlying data structure is a Numpy array, we can simply use its functions for slicing."
   ]
  },
  {
   "cell_type": "code",
   "execution_count": 6,
   "metadata": {},
   "outputs": [
    {
     "data": {
      "text/plain": [
       "Antartica                 NaN\n",
       "Asia             4.463000e+09\n",
       "Australia        2.413000e+07\n",
       "Europe           7.414000e+08\n",
       "North America    5.790000e+08\n",
       "dtype: float64"
      ]
     },
     "execution_count": 6,
     "metadata": {},
     "output_type": "execute_result"
    }
   ],
   "source": [
    "s[1:-1]"
   ]
  },
  {
   "cell_type": "markdown",
   "metadata": {},
   "source": [
    "The return type is again a Series. Like in Numpy, we can also run simple queries."
   ]
  },
  {
   "cell_type": "code",
   "execution_count": 7,
   "metadata": {},
   "outputs": [
    {
     "data": {
      "text/plain": [
       "Africa    1.216000e+09\n",
       "Asia      4.463000e+09\n",
       "dtype: float64"
      ]
     },
     "execution_count": 7,
     "metadata": {},
     "output_type": "execute_result"
    }
   ],
   "source": [
    "s[s>1000000000]"
   ]
  },
  {
   "cell_type": "markdown",
   "metadata": {},
   "source": [
    "We even apply Numpy functions to transform the data. Also here the return type is a Series."
   ]
  },
  {
   "cell_type": "code",
   "execution_count": 8,
   "metadata": {},
   "outputs": [
    {
     "data": {
      "text/plain": [
       "Africa           34871.191548\n",
       "Antartica                 NaN\n",
       "Asia             66805.688381\n",
       "Australia         4912.229636\n",
       "Europe           27228.661370\n",
       "North America    24062.418831\n",
       "South America    20554.804791\n",
       "dtype: float64"
      ]
     },
     "execution_count": 8,
     "metadata": {},
     "output_type": "execute_result"
    }
   ],
   "source": [
    "import numpy as np\n",
    "np.sqrt(s)"
   ]
  },
  {
   "cell_type": "markdown",
   "metadata": {},
   "source": [
    "Because our index is not numeric, but text, we can use text to select elements."
   ]
  },
  {
   "cell_type": "code",
   "execution_count": 9,
   "metadata": {},
   "outputs": [
    {
     "data": {
      "text/plain": [
       "1216000000.0"
      ]
     },
     "execution_count": 9,
     "metadata": {},
     "output_type": "execute_result"
    }
   ],
   "source": [
    "s[\"Africa\"]"
   ]
  },
  {
   "cell_type": "markdown",
   "metadata": {},
   "source": [
    "We can even get a slice of a Series by using a list of labels."
   ]
  },
  {
   "cell_type": "code",
   "execution_count": 10,
   "metadata": {},
   "outputs": [
    {
     "data": {
      "text/plain": [
       "Africa    1.216000e+09\n",
       "Europe    7.414000e+08\n",
       "dtype: float64"
      ]
     },
     "execution_count": 10,
     "metadata": {},
     "output_type": "execute_result"
    }
   ],
   "source": [
    "s[[\"Africa\",\"Europe\"]]"
   ]
  },
  {
   "cell_type": "markdown",
   "metadata": {},
   "source": [
    "And, we can use a number of built-in functions. For example, we can use `isnull` to get the positions of elements that are null type, like `None`."
   ]
  },
  {
   "cell_type": "code",
   "execution_count": 11,
   "metadata": {},
   "outputs": [
    {
     "data": {
      "text/plain": [
       "Antartica   NaN\n",
       "dtype: float64"
      ]
     },
     "execution_count": 11,
     "metadata": {},
     "output_type": "execute_result"
    }
   ],
   "source": [
    "s[s.isnull()]"
   ]
  },
  {
   "cell_type": "markdown",
   "metadata": {},
   "source": [
    "What is nice about Pandas, is that it already hosts some convenience functions for data analysis. For example, we can comput the total population using `sum`."
   ]
  },
  {
   "cell_type": "code",
   "execution_count": 12,
   "metadata": {},
   "outputs": [
    {
     "data": {
      "text/plain": [
       "7446030000.0"
      ]
     },
     "execution_count": 12,
     "metadata": {},
     "output_type": "execute_result"
    }
   ],
   "source": [
    "s.sum()"
   ]
  },
  {
   "cell_type": "markdown",
   "metadata": {},
   "source": [
    "Please refer to the documentation to learn about all available function for aggregating the data, including functions for basic statistics. \n",
    "\n",
    "`Series.plot` hosts a number of ready-to use plots, like bar charts, histpgrams, line charts, box plots, to name the most useful ones."
   ]
  },
  {
   "cell_type": "code",
   "execution_count": 13,
   "metadata": {},
   "outputs": [
    {
     "data": {
      "text/plain": [
       "<matplotlib.axes._subplots.AxesSubplot at 0x106f55160>"
      ]
     },
     "execution_count": 13,
     "metadata": {},
     "output_type": "execute_result"
    }
   ],
   "source": [
    "s.plot.bar()"
   ]
  },
  {
   "cell_type": "markdown",
   "metadata": {},
   "source": [
    "### Exercises"
   ]
  },
  {
   "cell_type": "markdown",
   "metadata": {},
   "source": [
    "1. Create a bar chart that contains only continents with a population less than 1,000,000,000."
   ]
  },
  {
   "cell_type": "code",
   "execution_count": null,
   "metadata": {},
   "outputs": [],
   "source": []
  },
  {
   "cell_type": "markdown",
   "metadata": {},
   "source": [
    "2. Now change the colors of the bars by using the attribute `color`. You can pass a list of color name strings, one for each bar. Draw all bars in `gray` except for Australia which gets `orange`. "
   ]
  },
  {
   "cell_type": "code",
   "execution_count": null,
   "metadata": {},
   "outputs": [],
   "source": []
  },
  {
   "cell_type": "markdown",
   "metadata": {},
   "source": [
    "3. Now Sort the continents with population less than 10,000,000,000 in decending order by population. Then, again create a bar chart - this time horizontal. Apply the same color coding as above."
   ]
  },
  {
   "cell_type": "code",
   "execution_count": null,
   "metadata": {},
   "outputs": [],
   "source": []
  },
  {
   "cell_type": "markdown",
   "metadata": {},
   "source": [
    "## DataFrame\n",
    "\n",
    "While Series are more syntactic sugar for Numpy arrays with a shortcut to Matplotlib, the killer feature of Pandas is the DataFrame, which is the number one tool for data analysis in Python.\n",
    "\n",
    "A DataFrame is also based on Numpy arrays, like a Series, but represents data as a table, much like a database. In a DataFrame both, rows and columns, can have a labeled index, which allows for even more powerful queries, for which we would normalle use SQL.\n",
    "\n",
    "### Basics\n",
    "\n",
    "Let us extend the previous example and add some additional features to our continent data."
   ]
  },
  {
   "cell_type": "code",
   "execution_count": 14,
   "metadata": {},
   "outputs": [
    {
     "data": {
      "text/html": [
       "<div>\n",
       "<style scoped>\n",
       "    .dataframe tbody tr th:only-of-type {\n",
       "        vertical-align: middle;\n",
       "    }\n",
       "\n",
       "    .dataframe tbody tr th {\n",
       "        vertical-align: top;\n",
       "    }\n",
       "\n",
       "    .dataframe thead th {\n",
       "        text-align: right;\n",
       "    }\n",
       "</style>\n",
       "<table border=\"1\" class=\"dataframe\">\n",
       "  <thead>\n",
       "    <tr style=\"text-align: right;\">\n",
       "      <th></th>\n",
       "      <th>continent</th>\n",
       "      <th>population</th>\n",
       "      <th>area</th>\n",
       "      <th>most populous city</th>\n",
       "    </tr>\n",
       "  </thead>\n",
       "  <tbody>\n",
       "    <tr>\n",
       "      <th>0</th>\n",
       "      <td>Africa</td>\n",
       "      <td>1.216000e+09</td>\n",
       "      <td>30221532</td>\n",
       "      <td>Lagos</td>\n",
       "    </tr>\n",
       "    <tr>\n",
       "      <th>1</th>\n",
       "      <td>Antartica</td>\n",
       "      <td>NaN</td>\n",
       "      <td>14000000</td>\n",
       "      <td>McMurdo Station</td>\n",
       "    </tr>\n",
       "    <tr>\n",
       "      <th>2</th>\n",
       "      <td>Asia</td>\n",
       "      <td>4.463000e+09</td>\n",
       "      <td>44579000</td>\n",
       "      <td>Shanghai</td>\n",
       "    </tr>\n",
       "    <tr>\n",
       "      <th>3</th>\n",
       "      <td>Australia</td>\n",
       "      <td>2.413000e+07</td>\n",
       "      <td>8525989</td>\n",
       "      <td>Sydney</td>\n",
       "    </tr>\n",
       "    <tr>\n",
       "      <th>4</th>\n",
       "      <td>Europe</td>\n",
       "      <td>7.414000e+08</td>\n",
       "      <td>10180000</td>\n",
       "      <td>Moscow</td>\n",
       "    </tr>\n",
       "    <tr>\n",
       "      <th>5</th>\n",
       "      <td>North America</td>\n",
       "      <td>5.790000e+08</td>\n",
       "      <td>24709000</td>\n",
       "      <td>Mexico City</td>\n",
       "    </tr>\n",
       "    <tr>\n",
       "      <th>6</th>\n",
       "      <td>South America</td>\n",
       "      <td>4.225000e+08</td>\n",
       "      <td>17840000</td>\n",
       "      <td>São Paulo</td>\n",
       "    </tr>\n",
       "  </tbody>\n",
       "</table>\n",
       "</div>"
      ],
      "text/plain": [
       "       continent    population      area most populous city\n",
       "0         Africa  1.216000e+09  30221532              Lagos\n",
       "1      Antartica           NaN  14000000    McMurdo Station\n",
       "2           Asia  4.463000e+09  44579000           Shanghai\n",
       "3      Australia  2.413000e+07   8525989             Sydney\n",
       "4         Europe  7.414000e+08  10180000             Moscow\n",
       "5  North America  5.790000e+08  24709000        Mexico City\n",
       "6  South America  4.225000e+08  17840000          São Paulo"
      ]
     },
     "execution_count": 14,
     "metadata": {},
     "output_type": "execute_result"
    }
   ],
   "source": [
    "data = {\"continent\": [\"Africa\", \"Antartica\", \"Asia\", \"Australia\", \"Europe\", \"North America\",\"South America\"],\n",
    "        \"population\": [1216000000, None, 4463000000, 24130000, 741400000, 579000000, 422500000],\n",
    "        \"area\": [30221532, 14000000, 44579000, 8525989, 10180000, 24709000, 17840000],\n",
    "        \"most populous city\": [\"Lagos\", \"McMurdo Station\", \"Shanghai\", \"Sydney\", \"Moscow\", \"Mexico City\", \"São Paulo\"]}\n",
    "df = pd.DataFrame(data)\n",
    "df"
   ]
  },
  {
   "cell_type": "markdown",
   "metadata": {},
   "source": [
    "All that we now need to do is define `continent` as our index. Note that, generally, Pandas functions return a copy with the desired view, so that we need to reassing our variabl `df` to the return value of the function that we call. (A way to circumvent creating copies of copies and applying function that are simply there for data munging, you can use \"method chaining\": https://www.kaggle.com/botatu/7-learn-pandas-method-chaining)"
   ]
  },
  {
   "cell_type": "code",
   "execution_count": 15,
   "metadata": {},
   "outputs": [
    {
     "data": {
      "text/html": [
       "<div>\n",
       "<style scoped>\n",
       "    .dataframe tbody tr th:only-of-type {\n",
       "        vertical-align: middle;\n",
       "    }\n",
       "\n",
       "    .dataframe tbody tr th {\n",
       "        vertical-align: top;\n",
       "    }\n",
       "\n",
       "    .dataframe thead th {\n",
       "        text-align: right;\n",
       "    }\n",
       "</style>\n",
       "<table border=\"1\" class=\"dataframe\">\n",
       "  <thead>\n",
       "    <tr style=\"text-align: right;\">\n",
       "      <th></th>\n",
       "      <th>population</th>\n",
       "      <th>area</th>\n",
       "      <th>most populous city</th>\n",
       "    </tr>\n",
       "    <tr>\n",
       "      <th>continent</th>\n",
       "      <th></th>\n",
       "      <th></th>\n",
       "      <th></th>\n",
       "    </tr>\n",
       "  </thead>\n",
       "  <tbody>\n",
       "    <tr>\n",
       "      <th>Africa</th>\n",
       "      <td>1.216000e+09</td>\n",
       "      <td>30221532</td>\n",
       "      <td>Lagos</td>\n",
       "    </tr>\n",
       "    <tr>\n",
       "      <th>Antartica</th>\n",
       "      <td>NaN</td>\n",
       "      <td>14000000</td>\n",
       "      <td>McMurdo Station</td>\n",
       "    </tr>\n",
       "    <tr>\n",
       "      <th>Asia</th>\n",
       "      <td>4.463000e+09</td>\n",
       "      <td>44579000</td>\n",
       "      <td>Shanghai</td>\n",
       "    </tr>\n",
       "    <tr>\n",
       "      <th>Australia</th>\n",
       "      <td>2.413000e+07</td>\n",
       "      <td>8525989</td>\n",
       "      <td>Sydney</td>\n",
       "    </tr>\n",
       "    <tr>\n",
       "      <th>Europe</th>\n",
       "      <td>7.414000e+08</td>\n",
       "      <td>10180000</td>\n",
       "      <td>Moscow</td>\n",
       "    </tr>\n",
       "    <tr>\n",
       "      <th>North America</th>\n",
       "      <td>5.790000e+08</td>\n",
       "      <td>24709000</td>\n",
       "      <td>Mexico City</td>\n",
       "    </tr>\n",
       "    <tr>\n",
       "      <th>South America</th>\n",
       "      <td>4.225000e+08</td>\n",
       "      <td>17840000</td>\n",
       "      <td>São Paulo</td>\n",
       "    </tr>\n",
       "  </tbody>\n",
       "</table>\n",
       "</div>"
      ],
      "text/plain": [
       "                 population      area most populous city\n",
       "continent                                               \n",
       "Africa         1.216000e+09  30221532              Lagos\n",
       "Antartica               NaN  14000000    McMurdo Station\n",
       "Asia           4.463000e+09  44579000           Shanghai\n",
       "Australia      2.413000e+07   8525989             Sydney\n",
       "Europe         7.414000e+08  10180000             Moscow\n",
       "North America  5.790000e+08  24709000        Mexico City\n",
       "South America  4.225000e+08  17840000          São Paulo"
      ]
     },
     "execution_count": 15,
     "metadata": {},
     "output_type": "execute_result"
    }
   ],
   "source": [
    "df = df.set_index(\"continent\")\n",
    "df"
   ]
  },
  {
   "cell_type": "markdown",
   "metadata": {},
   "source": [
    "We can now access the data in all kinds of ways. For example, by getting a single column, which returns a Series."
   ]
  },
  {
   "cell_type": "code",
   "execution_count": 16,
   "metadata": {},
   "outputs": [
    {
     "data": {
      "text/plain": [
       "continent\n",
       "Africa           1.216000e+09\n",
       "Antartica                 NaN\n",
       "Asia             4.463000e+09\n",
       "Australia        2.413000e+07\n",
       "Europe           7.414000e+08\n",
       "North America    5.790000e+08\n",
       "South America    4.225000e+08\n",
       "Name: population, dtype: float64"
      ]
     },
     "execution_count": 16,
     "metadata": {},
     "output_type": "execute_result"
    }
   ],
   "source": [
    "df[\"population\"]"
   ]
  },
  {
   "cell_type": "markdown",
   "metadata": {},
   "source": [
    "If we have proper columns name, these are also available as attributes."
   ]
  },
  {
   "cell_type": "code",
   "execution_count": 17,
   "metadata": {},
   "outputs": [
    {
     "data": {
      "text/plain": [
       "continent\n",
       "Africa           1.216000e+09\n",
       "Antartica                 NaN\n",
       "Asia             4.463000e+09\n",
       "Australia        2.413000e+07\n",
       "Europe           7.414000e+08\n",
       "North America    5.790000e+08\n",
       "South America    4.225000e+08\n",
       "Name: population, dtype: float64"
      ]
     },
     "execution_count": 17,
     "metadata": {},
     "output_type": "execute_result"
    }
   ],
   "source": [
    "df.population"
   ]
  },
  {
   "cell_type": "markdown",
   "metadata": {},
   "source": [
    "Sometimes, it can be annoying that we get a Series, because Series does not have the same features as DataFrames. In this case, we need two brackets."
   ]
  },
  {
   "cell_type": "code",
   "execution_count": 18,
   "metadata": {},
   "outputs": [
    {
     "data": {
      "text/html": [
       "<div>\n",
       "<style scoped>\n",
       "    .dataframe tbody tr th:only-of-type {\n",
       "        vertical-align: middle;\n",
       "    }\n",
       "\n",
       "    .dataframe tbody tr th {\n",
       "        vertical-align: top;\n",
       "    }\n",
       "\n",
       "    .dataframe thead th {\n",
       "        text-align: right;\n",
       "    }\n",
       "</style>\n",
       "<table border=\"1\" class=\"dataframe\">\n",
       "  <thead>\n",
       "    <tr style=\"text-align: right;\">\n",
       "      <th></th>\n",
       "      <th>population</th>\n",
       "    </tr>\n",
       "    <tr>\n",
       "      <th>continent</th>\n",
       "      <th></th>\n",
       "    </tr>\n",
       "  </thead>\n",
       "  <tbody>\n",
       "    <tr>\n",
       "      <th>Africa</th>\n",
       "      <td>1.216000e+09</td>\n",
       "    </tr>\n",
       "    <tr>\n",
       "      <th>Antartica</th>\n",
       "      <td>NaN</td>\n",
       "    </tr>\n",
       "    <tr>\n",
       "      <th>Asia</th>\n",
       "      <td>4.463000e+09</td>\n",
       "    </tr>\n",
       "    <tr>\n",
       "      <th>Australia</th>\n",
       "      <td>2.413000e+07</td>\n",
       "    </tr>\n",
       "    <tr>\n",
       "      <th>Europe</th>\n",
       "      <td>7.414000e+08</td>\n",
       "    </tr>\n",
       "    <tr>\n",
       "      <th>North America</th>\n",
       "      <td>5.790000e+08</td>\n",
       "    </tr>\n",
       "    <tr>\n",
       "      <th>South America</th>\n",
       "      <td>4.225000e+08</td>\n",
       "    </tr>\n",
       "  </tbody>\n",
       "</table>\n",
       "</div>"
      ],
      "text/plain": [
       "                 population\n",
       "continent                  \n",
       "Africa         1.216000e+09\n",
       "Antartica               NaN\n",
       "Asia           4.463000e+09\n",
       "Australia      2.413000e+07\n",
       "Europe         7.414000e+08\n",
       "North America  5.790000e+08\n",
       "South America  4.225000e+08"
      ]
     },
     "execution_count": 18,
     "metadata": {},
     "output_type": "execute_result"
    }
   ],
   "source": [
    "df[[\"population\"]]"
   ]
  },
  {
   "cell_type": "markdown",
   "metadata": {},
   "source": [
    "The actual purpose of this feature is to select multiple columns though, which we can do by passing a list of column names."
   ]
  },
  {
   "cell_type": "code",
   "execution_count": 19,
   "metadata": {},
   "outputs": [
    {
     "data": {
      "text/html": [
       "<div>\n",
       "<style scoped>\n",
       "    .dataframe tbody tr th:only-of-type {\n",
       "        vertical-align: middle;\n",
       "    }\n",
       "\n",
       "    .dataframe tbody tr th {\n",
       "        vertical-align: top;\n",
       "    }\n",
       "\n",
       "    .dataframe thead th {\n",
       "        text-align: right;\n",
       "    }\n",
       "</style>\n",
       "<table border=\"1\" class=\"dataframe\">\n",
       "  <thead>\n",
       "    <tr style=\"text-align: right;\">\n",
       "      <th></th>\n",
       "      <th>population</th>\n",
       "      <th>area</th>\n",
       "    </tr>\n",
       "    <tr>\n",
       "      <th>continent</th>\n",
       "      <th></th>\n",
       "      <th></th>\n",
       "    </tr>\n",
       "  </thead>\n",
       "  <tbody>\n",
       "    <tr>\n",
       "      <th>Africa</th>\n",
       "      <td>1.216000e+09</td>\n",
       "      <td>30221532</td>\n",
       "    </tr>\n",
       "    <tr>\n",
       "      <th>Antartica</th>\n",
       "      <td>NaN</td>\n",
       "      <td>14000000</td>\n",
       "    </tr>\n",
       "    <tr>\n",
       "      <th>Asia</th>\n",
       "      <td>4.463000e+09</td>\n",
       "      <td>44579000</td>\n",
       "    </tr>\n",
       "    <tr>\n",
       "      <th>Australia</th>\n",
       "      <td>2.413000e+07</td>\n",
       "      <td>8525989</td>\n",
       "    </tr>\n",
       "    <tr>\n",
       "      <th>Europe</th>\n",
       "      <td>7.414000e+08</td>\n",
       "      <td>10180000</td>\n",
       "    </tr>\n",
       "    <tr>\n",
       "      <th>North America</th>\n",
       "      <td>5.790000e+08</td>\n",
       "      <td>24709000</td>\n",
       "    </tr>\n",
       "    <tr>\n",
       "      <th>South America</th>\n",
       "      <td>4.225000e+08</td>\n",
       "      <td>17840000</td>\n",
       "    </tr>\n",
       "  </tbody>\n",
       "</table>\n",
       "</div>"
      ],
      "text/plain": [
       "                 population      area\n",
       "continent                            \n",
       "Africa         1.216000e+09  30221532\n",
       "Antartica               NaN  14000000\n",
       "Asia           4.463000e+09  44579000\n",
       "Australia      2.413000e+07   8525989\n",
       "Europe         7.414000e+08  10180000\n",
       "North America  5.790000e+08  24709000\n",
       "South America  4.225000e+08  17840000"
      ]
     },
     "execution_count": 19,
     "metadata": {},
     "output_type": "execute_result"
    }
   ],
   "source": [
    "df[[\"population\",\"area\"]]"
   ]
  },
  {
   "cell_type": "markdown",
   "metadata": {},
   "source": [
    "Instead of columns, we can also select rows by using `loc`."
   ]
  },
  {
   "cell_type": "code",
   "execution_count": 20,
   "metadata": {},
   "outputs": [
    {
     "data": {
      "text/plain": [
       "population            4.463e+09\n",
       "area                   44579000\n",
       "most populous city     Shanghai\n",
       "Name: Asia, dtype: object"
      ]
     },
     "execution_count": 20,
     "metadata": {},
     "output_type": "execute_result"
    }
   ],
   "source": [
    "df.loc[\"Asia\"]"
   ]
  },
  {
   "cell_type": "markdown",
   "metadata": {},
   "source": [
    "Again, might be better if we get a DataFrame and not a Series."
   ]
  },
  {
   "cell_type": "code",
   "execution_count": 21,
   "metadata": {},
   "outputs": [
    {
     "data": {
      "text/html": [
       "<div>\n",
       "<style scoped>\n",
       "    .dataframe tbody tr th:only-of-type {\n",
       "        vertical-align: middle;\n",
       "    }\n",
       "\n",
       "    .dataframe tbody tr th {\n",
       "        vertical-align: top;\n",
       "    }\n",
       "\n",
       "    .dataframe thead th {\n",
       "        text-align: right;\n",
       "    }\n",
       "</style>\n",
       "<table border=\"1\" class=\"dataframe\">\n",
       "  <thead>\n",
       "    <tr style=\"text-align: right;\">\n",
       "      <th></th>\n",
       "      <th>population</th>\n",
       "      <th>area</th>\n",
       "      <th>most populous city</th>\n",
       "    </tr>\n",
       "    <tr>\n",
       "      <th>continent</th>\n",
       "      <th></th>\n",
       "      <th></th>\n",
       "      <th></th>\n",
       "    </tr>\n",
       "  </thead>\n",
       "  <tbody>\n",
       "    <tr>\n",
       "      <th>Asia</th>\n",
       "      <td>4.463000e+09</td>\n",
       "      <td>44579000</td>\n",
       "      <td>Shanghai</td>\n",
       "    </tr>\n",
       "  </tbody>\n",
       "</table>\n",
       "</div>"
      ],
      "text/plain": [
       "             population      area most populous city\n",
       "continent                                           \n",
       "Asia       4.463000e+09  44579000           Shanghai"
      ]
     },
     "execution_count": 21,
     "metadata": {},
     "output_type": "execute_result"
    }
   ],
   "source": [
    "df.loc[[\"Asia\"]]"
   ]
  },
  {
   "cell_type": "markdown",
   "metadata": {},
   "source": [
    "Also works with multiple rows."
   ]
  },
  {
   "cell_type": "code",
   "execution_count": 22,
   "metadata": {},
   "outputs": [
    {
     "data": {
      "text/html": [
       "<div>\n",
       "<style scoped>\n",
       "    .dataframe tbody tr th:only-of-type {\n",
       "        vertical-align: middle;\n",
       "    }\n",
       "\n",
       "    .dataframe tbody tr th {\n",
       "        vertical-align: top;\n",
       "    }\n",
       "\n",
       "    .dataframe thead th {\n",
       "        text-align: right;\n",
       "    }\n",
       "</style>\n",
       "<table border=\"1\" class=\"dataframe\">\n",
       "  <thead>\n",
       "    <tr style=\"text-align: right;\">\n",
       "      <th></th>\n",
       "      <th>population</th>\n",
       "      <th>area</th>\n",
       "      <th>most populous city</th>\n",
       "    </tr>\n",
       "    <tr>\n",
       "      <th>continent</th>\n",
       "      <th></th>\n",
       "      <th></th>\n",
       "      <th></th>\n",
       "    </tr>\n",
       "  </thead>\n",
       "  <tbody>\n",
       "    <tr>\n",
       "      <th>Asia</th>\n",
       "      <td>4.463000e+09</td>\n",
       "      <td>44579000</td>\n",
       "      <td>Shanghai</td>\n",
       "    </tr>\n",
       "    <tr>\n",
       "      <th>North America</th>\n",
       "      <td>5.790000e+08</td>\n",
       "      <td>24709000</td>\n",
       "      <td>Mexico City</td>\n",
       "    </tr>\n",
       "  </tbody>\n",
       "</table>\n",
       "</div>"
      ],
      "text/plain": [
       "                 population      area most populous city\n",
       "continent                                               \n",
       "Asia           4.463000e+09  44579000           Shanghai\n",
       "North America  5.790000e+08  24709000        Mexico City"
      ]
     },
     "execution_count": 22,
     "metadata": {},
     "output_type": "execute_result"
    }
   ],
   "source": [
    "df.loc[[\"Asia\",\"North America\"]]"
   ]
  },
  {
   "cell_type": "markdown",
   "metadata": {},
   "source": [
    "We can also grab an individual element from the DataFrame."
   ]
  },
  {
   "cell_type": "code",
   "execution_count": 23,
   "metadata": {},
   "outputs": [
    {
     "data": {
      "text/plain": [
       "10180000"
      ]
     },
     "execution_count": 23,
     "metadata": {},
     "output_type": "execute_result"
    }
   ],
   "source": [
    "df.at[\"Europe\",\"area\"]"
   ]
  },
  {
   "cell_type": "markdown",
   "metadata": {},
   "source": [
    "Or we can use the index of the underlying numpy array."
   ]
  },
  {
   "cell_type": "code",
   "execution_count": 24,
   "metadata": {},
   "outputs": [
    {
     "data": {
      "text/plain": [
       "10180000"
      ]
     },
     "execution_count": 24,
     "metadata": {},
     "output_type": "execute_result"
    }
   ],
   "source": [
    "df.iloc[4,1]"
   ]
  },
  {
   "cell_type": "markdown",
   "metadata": {},
   "source": [
    "We can also select rows using boolean slicing as with Numpy arrays."
   ]
  },
  {
   "cell_type": "code",
   "execution_count": 25,
   "metadata": {},
   "outputs": [
    {
     "data": {
      "text/html": [
       "<div>\n",
       "<style scoped>\n",
       "    .dataframe tbody tr th:only-of-type {\n",
       "        vertical-align: middle;\n",
       "    }\n",
       "\n",
       "    .dataframe tbody tr th {\n",
       "        vertical-align: top;\n",
       "    }\n",
       "\n",
       "    .dataframe thead th {\n",
       "        text-align: right;\n",
       "    }\n",
       "</style>\n",
       "<table border=\"1\" class=\"dataframe\">\n",
       "  <thead>\n",
       "    <tr style=\"text-align: right;\">\n",
       "      <th></th>\n",
       "      <th>population</th>\n",
       "      <th>area</th>\n",
       "      <th>most populous city</th>\n",
       "    </tr>\n",
       "    <tr>\n",
       "      <th>continent</th>\n",
       "      <th></th>\n",
       "      <th></th>\n",
       "      <th></th>\n",
       "    </tr>\n",
       "  </thead>\n",
       "  <tbody>\n",
       "    <tr>\n",
       "      <th>Europe</th>\n",
       "      <td>741400000.0</td>\n",
       "      <td>10180000</td>\n",
       "      <td>Moscow</td>\n",
       "    </tr>\n",
       "  </tbody>\n",
       "</table>\n",
       "</div>"
      ],
      "text/plain": [
       "            population      area most populous city\n",
       "continent                                          \n",
       "Europe     741400000.0  10180000             Moscow"
      ]
     },
     "execution_count": 25,
     "metadata": {},
     "output_type": "execute_result"
    }
   ],
   "source": [
    "df[df.index==\"Europe\"]"
   ]
  },
  {
   "cell_type": "markdown",
   "metadata": {},
   "source": [
    "By combining both features, we can even create quite complicated slices. This is equally powerful as SQLs SELECT FROM WHERE syntax."
   ]
  },
  {
   "cell_type": "code",
   "execution_count": 26,
   "metadata": {},
   "outputs": [
    {
     "data": {
      "text/html": [
       "<div>\n",
       "<style scoped>\n",
       "    .dataframe tbody tr th:only-of-type {\n",
       "        vertical-align: middle;\n",
       "    }\n",
       "\n",
       "    .dataframe tbody tr th {\n",
       "        vertical-align: top;\n",
       "    }\n",
       "\n",
       "    .dataframe thead th {\n",
       "        text-align: right;\n",
       "    }\n",
       "</style>\n",
       "<table border=\"1\" class=\"dataframe\">\n",
       "  <thead>\n",
       "    <tr style=\"text-align: right;\">\n",
       "      <th></th>\n",
       "      <th>population</th>\n",
       "      <th>area</th>\n",
       "    </tr>\n",
       "    <tr>\n",
       "      <th>continent</th>\n",
       "      <th></th>\n",
       "      <th></th>\n",
       "    </tr>\n",
       "  </thead>\n",
       "  <tbody>\n",
       "    <tr>\n",
       "      <th>Africa</th>\n",
       "      <td>1.216000e+09</td>\n",
       "      <td>30221532</td>\n",
       "    </tr>\n",
       "    <tr>\n",
       "      <th>Asia</th>\n",
       "      <td>4.463000e+09</td>\n",
       "      <td>44579000</td>\n",
       "    </tr>\n",
       "  </tbody>\n",
       "</table>\n",
       "</div>"
      ],
      "text/plain": [
       "             population      area\n",
       "continent                        \n",
       "Africa     1.216000e+09  30221532\n",
       "Asia       4.463000e+09  44579000"
      ]
     },
     "execution_count": 26,
     "metadata": {},
     "output_type": "execute_result"
    }
   ],
   "source": [
    "df[[\"population\",\"area\"]][df.population>1000000000]"
   ]
  },
  {
   "cell_type": "markdown",
   "metadata": {},
   "source": [
    "Using a dictionary is just one way of creating a DataFrame. Another popular one is to pass a nested list or a 2d-array that contains the data, and specify index and column labels separately."
   ]
  },
  {
   "cell_type": "code",
   "execution_count": 27,
   "metadata": {},
   "outputs": [
    {
     "data": {
      "text/html": [
       "<div>\n",
       "<style scoped>\n",
       "    .dataframe tbody tr th:only-of-type {\n",
       "        vertical-align: middle;\n",
       "    }\n",
       "\n",
       "    .dataframe tbody tr th {\n",
       "        vertical-align: top;\n",
       "    }\n",
       "\n",
       "    .dataframe thead th {\n",
       "        text-align: right;\n",
       "    }\n",
       "</style>\n",
       "<table border=\"1\" class=\"dataframe\">\n",
       "  <thead>\n",
       "    <tr style=\"text-align: right;\">\n",
       "      <th></th>\n",
       "      <th>population</th>\n",
       "      <th>area</th>\n",
       "    </tr>\n",
       "  </thead>\n",
       "  <tbody>\n",
       "    <tr>\n",
       "      <th>Africa</th>\n",
       "      <td>1.216000e+09</td>\n",
       "      <td>30221532</td>\n",
       "    </tr>\n",
       "    <tr>\n",
       "      <th>Antartica</th>\n",
       "      <td>NaN</td>\n",
       "      <td>14000000</td>\n",
       "    </tr>\n",
       "    <tr>\n",
       "      <th>Asia</th>\n",
       "      <td>4.463000e+09</td>\n",
       "      <td>44579000</td>\n",
       "    </tr>\n",
       "    <tr>\n",
       "      <th>Australia</th>\n",
       "      <td>2.413000e+07</td>\n",
       "      <td>8525989</td>\n",
       "    </tr>\n",
       "    <tr>\n",
       "      <th>Europe</th>\n",
       "      <td>7.414000e+08</td>\n",
       "      <td>10180000</td>\n",
       "    </tr>\n",
       "    <tr>\n",
       "      <th>North America</th>\n",
       "      <td>5.790000e+08</td>\n",
       "      <td>24709000</td>\n",
       "    </tr>\n",
       "    <tr>\n",
       "      <th>South America</th>\n",
       "      <td>4.225000e+08</td>\n",
       "      <td>17840000</td>\n",
       "    </tr>\n",
       "  </tbody>\n",
       "</table>\n",
       "</div>"
      ],
      "text/plain": [
       "                 population      area\n",
       "Africa         1.216000e+09  30221532\n",
       "Antartica               NaN  14000000\n",
       "Asia           4.463000e+09  44579000\n",
       "Australia      2.413000e+07   8525989\n",
       "Europe         7.414000e+08  10180000\n",
       "North America  5.790000e+08  24709000\n",
       "South America  4.225000e+08  17840000"
      ]
     },
     "execution_count": 27,
     "metadata": {},
     "output_type": "execute_result"
    }
   ],
   "source": [
    "data = [[1216000000.0, 30221532],\n",
    "        [np.nan, 14000000],\n",
    "        [4463000000.0, 44579000],\n",
    "        [24130000.0, 8525989],\n",
    "        [741400000.0, 10180000],\n",
    "        [579000000.0, 24709000],\n",
    "         [422500000.0, 17840000]]\n",
    "df = pd.DataFrame(data=data, \n",
    "                  index=[\"Africa\", \"Antartica\", \"Asia\", \"Australia\", \"Europe\", \"North America\",\"South America\"],\n",
    "                  columns=[\"population\",\"area\"])\n",
    "df"
   ]
  },
  {
   "cell_type": "markdown",
   "metadata": {},
   "source": [
    "Note that the name of the index column is missing. We can either add this using the `index.name`attribute or create `pandas.Index`."
   ]
  },
  {
   "cell_type": "code",
   "execution_count": 28,
   "metadata": {},
   "outputs": [
    {
     "data": {
      "text/html": [
       "<div>\n",
       "<style scoped>\n",
       "    .dataframe tbody tr th:only-of-type {\n",
       "        vertical-align: middle;\n",
       "    }\n",
       "\n",
       "    .dataframe tbody tr th {\n",
       "        vertical-align: top;\n",
       "    }\n",
       "\n",
       "    .dataframe thead th {\n",
       "        text-align: right;\n",
       "    }\n",
       "</style>\n",
       "<table border=\"1\" class=\"dataframe\">\n",
       "  <thead>\n",
       "    <tr style=\"text-align: right;\">\n",
       "      <th></th>\n",
       "      <th>population</th>\n",
       "      <th>area</th>\n",
       "    </tr>\n",
       "    <tr>\n",
       "      <th>continent</th>\n",
       "      <th></th>\n",
       "      <th></th>\n",
       "    </tr>\n",
       "  </thead>\n",
       "  <tbody>\n",
       "    <tr>\n",
       "      <th>Africa</th>\n",
       "      <td>1.216000e+09</td>\n",
       "      <td>30221532</td>\n",
       "    </tr>\n",
       "    <tr>\n",
       "      <th>Antartica</th>\n",
       "      <td>NaN</td>\n",
       "      <td>14000000</td>\n",
       "    </tr>\n",
       "    <tr>\n",
       "      <th>Asia</th>\n",
       "      <td>4.463000e+09</td>\n",
       "      <td>44579000</td>\n",
       "    </tr>\n",
       "    <tr>\n",
       "      <th>Australia</th>\n",
       "      <td>2.413000e+07</td>\n",
       "      <td>8525989</td>\n",
       "    </tr>\n",
       "    <tr>\n",
       "      <th>Europe</th>\n",
       "      <td>7.414000e+08</td>\n",
       "      <td>10180000</td>\n",
       "    </tr>\n",
       "    <tr>\n",
       "      <th>North America</th>\n",
       "      <td>5.790000e+08</td>\n",
       "      <td>24709000</td>\n",
       "    </tr>\n",
       "    <tr>\n",
       "      <th>South America</th>\n",
       "      <td>4.225000e+08</td>\n",
       "      <td>17840000</td>\n",
       "    </tr>\n",
       "  </tbody>\n",
       "</table>\n",
       "</div>"
      ],
      "text/plain": [
       "                 population      area\n",
       "continent                            \n",
       "Africa         1.216000e+09  30221532\n",
       "Antartica               NaN  14000000\n",
       "Asia           4.463000e+09  44579000\n",
       "Australia      2.413000e+07   8525989\n",
       "Europe         7.414000e+08  10180000\n",
       "North America  5.790000e+08  24709000\n",
       "South America  4.225000e+08  17840000"
      ]
     },
     "execution_count": 28,
     "metadata": {},
     "output_type": "execute_result"
    }
   ],
   "source": [
    "df.index.name = \"continent\"\n",
    "df"
   ]
  },
  {
   "cell_type": "markdown",
   "metadata": {},
   "source": [
    "Now, one column is still missing, the one containing the names of the most populous cities. Let us create another list containing these names."
   ]
  },
  {
   "cell_type": "code",
   "execution_count": 29,
   "metadata": {},
   "outputs": [],
   "source": [
    "cities = ['Lagos', 'McMurdo Station', 'Shanghai', 'Sydney', 'Moscow', 'Mexico City', 'São Paulo']"
   ]
  },
  {
   "cell_type": "markdown",
   "metadata": {},
   "source": [
    "We can now simply append a new column to the DataFrame by referring to it by its columns name and assigning the list to it."
   ]
  },
  {
   "cell_type": "code",
   "execution_count": 30,
   "metadata": {},
   "outputs": [
    {
     "data": {
      "text/html": [
       "<div>\n",
       "<style scoped>\n",
       "    .dataframe tbody tr th:only-of-type {\n",
       "        vertical-align: middle;\n",
       "    }\n",
       "\n",
       "    .dataframe tbody tr th {\n",
       "        vertical-align: top;\n",
       "    }\n",
       "\n",
       "    .dataframe thead th {\n",
       "        text-align: right;\n",
       "    }\n",
       "</style>\n",
       "<table border=\"1\" class=\"dataframe\">\n",
       "  <thead>\n",
       "    <tr style=\"text-align: right;\">\n",
       "      <th></th>\n",
       "      <th>population</th>\n",
       "      <th>area</th>\n",
       "      <th>most populous city</th>\n",
       "    </tr>\n",
       "    <tr>\n",
       "      <th>continent</th>\n",
       "      <th></th>\n",
       "      <th></th>\n",
       "      <th></th>\n",
       "    </tr>\n",
       "  </thead>\n",
       "  <tbody>\n",
       "    <tr>\n",
       "      <th>Africa</th>\n",
       "      <td>1.216000e+09</td>\n",
       "      <td>30221532</td>\n",
       "      <td>Lagos</td>\n",
       "    </tr>\n",
       "    <tr>\n",
       "      <th>Antartica</th>\n",
       "      <td>NaN</td>\n",
       "      <td>14000000</td>\n",
       "      <td>McMurdo Station</td>\n",
       "    </tr>\n",
       "    <tr>\n",
       "      <th>Asia</th>\n",
       "      <td>4.463000e+09</td>\n",
       "      <td>44579000</td>\n",
       "      <td>Shanghai</td>\n",
       "    </tr>\n",
       "    <tr>\n",
       "      <th>Australia</th>\n",
       "      <td>2.413000e+07</td>\n",
       "      <td>8525989</td>\n",
       "      <td>Sydney</td>\n",
       "    </tr>\n",
       "    <tr>\n",
       "      <th>Europe</th>\n",
       "      <td>7.414000e+08</td>\n",
       "      <td>10180000</td>\n",
       "      <td>Moscow</td>\n",
       "    </tr>\n",
       "    <tr>\n",
       "      <th>North America</th>\n",
       "      <td>5.790000e+08</td>\n",
       "      <td>24709000</td>\n",
       "      <td>Mexico City</td>\n",
       "    </tr>\n",
       "    <tr>\n",
       "      <th>South America</th>\n",
       "      <td>4.225000e+08</td>\n",
       "      <td>17840000</td>\n",
       "      <td>São Paulo</td>\n",
       "    </tr>\n",
       "  </tbody>\n",
       "</table>\n",
       "</div>"
      ],
      "text/plain": [
       "                 population      area most populous city\n",
       "continent                                               \n",
       "Africa         1.216000e+09  30221532              Lagos\n",
       "Antartica               NaN  14000000    McMurdo Station\n",
       "Asia           4.463000e+09  44579000           Shanghai\n",
       "Australia      2.413000e+07   8525989             Sydney\n",
       "Europe         7.414000e+08  10180000             Moscow\n",
       "North America  5.790000e+08  24709000        Mexico City\n",
       "South America  4.225000e+08  17840000          São Paulo"
      ]
     },
     "execution_count": 30,
     "metadata": {},
     "output_type": "execute_result"
    }
   ],
   "source": [
    "df[\"most populous city\"] = cities\n",
    "df"
   ]
  },
  {
   "cell_type": "markdown",
   "metadata": {},
   "source": [
    "#### Exercises"
   ]
  },
  {
   "cell_type": "markdown",
   "metadata": {},
   "source": [
    "1. Select the names of the most populous cities from those continents with population less than 1,000,000,000 but more than 100,000,000."
   ]
  },
  {
   "cell_type": "code",
   "execution_count": null,
   "metadata": {},
   "outputs": [],
   "source": []
  },
  {
   "cell_type": "markdown",
   "metadata": {},
   "source": [
    "2. Use the function `dropna` to remove the column that contains NaNs."
   ]
  },
  {
   "cell_type": "code",
   "execution_count": null,
   "metadata": {},
   "outputs": [],
   "source": []
  },
  {
   "cell_type": "markdown",
   "metadata": {},
   "source": [
    "3. Return the name of the continent where Lagos is the most populous city as `str`. You can acces the row names via the attribute `index`."
   ]
  },
  {
   "cell_type": "code",
   "execution_count": null,
   "metadata": {},
   "outputs": [],
   "source": []
  },
  {
   "cell_type": "markdown",
   "metadata": {},
   "source": [
    "### Importing Data\n",
    "\n",
    "In most cases, you will not have data lying around in Python dictonaries or lists, but will want to import them from some other data source, like a CSV file, an Excel workbook, or a web page. Let us skip importing local files for now and start with importing data from the web.\n",
    "\n",
    "When importing data from web pages, you can use quite advanced libraries like `BeautifulSoup`, but for simple pages with a couple of tables, this is often not necessary, because Pandas already has functions to read HTML pages and scan these pages for tables.\n",
    "\n",
    "Let us stick with our continent example and get some more data directly from wikipedia: https://en.wikipedia.org/wiki/Continent\n",
    "\n",
    "To import tables from that web page, we simply use `pandas.read_html`."
   ]
  },
  {
   "cell_type": "code",
   "execution_count": 31,
   "metadata": {
    "scrolled": true
   },
   "outputs": [
    {
     "data": {
      "text/plain": [
       "[                                                   0             1        2  \\\n",
       " 0                                             Models           NaN      NaN   \n",
       " 1  Color-coded map showing the various continents...           NaN      NaN   \n",
       " 2                                Four continents[13]  Afro-Eurasia  America   \n",
       " 3                                    Five continents        Africa  Eurasia   \n",
       " 4                                 Six continents[14]        Africa     Asia   \n",
       " 5                             Six continents[15][16]        Africa  Eurasia   \n",
       " 6           Seven continents[16][17][18][19][20][21]        Africa     Asia   \n",
       " \n",
       "                3              4              5                  6  \\\n",
       " 0            NaN            NaN            NaN                NaN   \n",
       " 1            NaN            NaN            NaN                NaN   \n",
       " 2     Antarctica      Australia            NaN                NaN   \n",
       " 3        America     Antarctica      Australia                NaN   \n",
       " 4         Europe        America     Antarctica  Australia/Oceania   \n",
       " 5  North America  South America     Antarctica  Australia/Oceania   \n",
       " 6         Europe  North America  South America         Antarctica   \n",
       " \n",
       "                    7  \n",
       " 0                NaN  \n",
       " 1                NaN  \n",
       " 2                NaN  \n",
       " 3                NaN  \n",
       " 4                NaN  \n",
       " 5                NaN  \n",
       " 6  Australia/Oceania  ,\n",
       "     0                                                  1\n",
       " 0 NaN  This section possibly contains synthesis of ma...,\n",
       "                    0         1                                  2  \\\n",
       " 0          Continent       NaN  Area (km²)[not in citation given]   \n",
       " 1             Africa  [note 1]                           30370000   \n",
       " 2         Antarctica  [note 2]                           14000000   \n",
       " 3               Asia  [note 3]                           44579000   \n",
       " 4             Europe  [note 4]                           10180000   \n",
       " 5      North America  [note 5]                           24709000   \n",
       " 6  Australia/Oceania  [note 6]                            8600000   \n",
       " 7      South America       NaN                           17840000   \n",
       " \n",
       "                                    3  \\\n",
       " 0  Area (mi²)[not in citation given]   \n",
       " 1                           11730000   \n",
       " 2                            5400000   \n",
       " 3                           17212000   \n",
       " 4                            3930000   \n",
       " 5                            9540000   \n",
       " 6                            3300000   \n",
       " 7                            6890000   \n",
       " \n",
       "                                              4           5                  6  \\\n",
       " 0  Percenttotallandmass[not in citation given]  Population  Percenttotal pop.   \n",
       " 1                                        20.4%  1287920000              16.9%   \n",
       " 2                                         9.2%   4,490[28]               0.0%   \n",
       " 3                                        29.5%  4545133000              59.5%   \n",
       " 4                                         6.8%   742648000               9.7%   \n",
       " 5                                        16.5%   587615000               7.7%   \n",
       " 6                                         5.9%    41261000               0.5%   \n",
       " 7                                        12.0%   428240000               5.6%   \n",
       " \n",
       "                             7  \n",
       " 0  Most populouscity (proper)  \n",
       " 1              Lagos, Nigeria  \n",
       " 2             McMurdo Station  \n",
       " 3             Shanghai, China  \n",
       " 4          Moscow, Russia[29]  \n",
       " 5         Mexico City, Mexico  \n",
       " 6           Sydney, Australia  \n",
       " 7           São Paulo, Brazil  ,\n",
       "                                                    0  \\\n",
       " 0  Comparison of area (by tens of millions of squ...   \n",
       " \n",
       "                                                    1  \n",
       " 0  Graph showing population by continent as a per...  ,\n",
       "     0                                                  1\n",
       " 0 NaN  This section needs additional citations for ve...,\n",
       "                0                  1              2               3  \\\n",
       " 0      Continent      Highest point  Elevation (m)  Elevation (ft)   \n",
       " 1           Asia      Mount Everest           8848           29029   \n",
       " 2  South America          Aconcagua           6960           22830   \n",
       " 3  North America             Denali           6198           20335   \n",
       " 4         Africa  Mount Kilimanjaro           5895           19341   \n",
       " 5         Europe       Mount Elbrus           5642           18510   \n",
       " 6     Antarctica      Vinson Massif           4892           16050   \n",
       " 7      Australia        Puncak Jaya           4884           16024   \n",
       " \n",
       "                                                4                            5  \\\n",
       " 0  Country or territory containing highest point                 Lowest point   \n",
       " 1                                China and Nepal                     Dead Sea   \n",
       " 2                                      Argentina            Laguna del Carbón   \n",
       " 3                                  United States               Death Valley †   \n",
       " 4                                       Tanzania                   Lake Assal   \n",
       " 5                                         Russia                  Caspian Sea   \n",
       " 6                                         (none)  Deep Lake, Vestfold Hills †   \n",
       " 7                              Indonesia (Papua)                    Lake Eyre   \n",
       " \n",
       "                6               7                                             8  \n",
       " 0  Elevation (m)  Elevation (ft)  Country or territory containing lowest point  \n",
       " 1           −427          −1,401                  Israel, Jordan and Palestine  \n",
       " 2           −105            −344                                     Argentina  \n",
       " 3            −86            −282                                 United States  \n",
       " 4           −155            −509                                      Djibouti  \n",
       " 5            −28             −92                                        Russia  \n",
       " 6            −50            −160                                        (none)  \n",
       " 7            −15             −49                                     Australia  ,\n",
       "     0                                                  1\n",
       " 0 NaN  Wikimedia Commons has media related to:  Conti...,\n",
       "                                  0  \\\n",
       " 0                         vteEarth   \n",
       " 1                       Continents   \n",
       " 2                           Oceans   \n",
       " 3                            Earth   \n",
       " 4                      Environment   \n",
       " 5                          Related   \n",
       " 6  Category  Portal Earth sciences   \n",
       " \n",
       "                                                    1   2  \n",
       " 0                                                NaN NaN  \n",
       " 1  Africa Antarctica Asia Australia Europe North ... NaN  \n",
       " 2  Arctic Ocean Atlantic Ocean Indian Ocean Pacif... NaN  \n",
       " 3  Geography Geology Future of Earth Geological h... NaN  \n",
       " 4          Biome Ecology Ecosystem Nature Wilderness NaN  \n",
       " 5  Earth Day Earth science Geologic record Geolog... NaN  \n",
       " 6                                                NaN NaN  ,\n",
       "                                                     0  \\\n",
       " 0                          vteContinents of the world   \n",
       " 1   Africa Antarctica Asia Australia Europe North ...   \n",
       " 2   Africa Antarctica Asia Australia Europe North ...   \n",
       " 3                                                 NaN   \n",
       " 4                Afro-Eurasia America Eurasia Oceania   \n",
       " 5                Afro-Eurasia America Eurasia Oceania   \n",
       " 6                                                 NaN   \n",
       " 7   Former supercontinentsGondwana Laurasia Pangae...   \n",
       " 8   Former supercontinentsGondwana Laurasia Pangae...   \n",
       " 9                                                 NaN   \n",
       " 10  Submerged continentsKerguelen Plateau Zealandi...   \n",
       " 11  Submerged continentsKerguelen Plateau Zealandi...   \n",
       " 12                                                NaN   \n",
       " 13  See also Regions of the worldContinental fragm...   \n",
       " 14  Africa Antarctica Asia Australia Europe North ...   \n",
       " 15                                                NaN   \n",
       " 16                                                NaN   \n",
       " 17               Afro-Eurasia America Eurasia Oceania   \n",
       " 18                                                NaN   \n",
       " 19                                                NaN   \n",
       " 20  Former supercontinentsGondwana Laurasia Pangae...   \n",
       " 21                                                NaN   \n",
       " 22                                                NaN   \n",
       " 23  Submerged continentsKerguelen Plateau Zealandi...   \n",
       " 24                                                NaN   \n",
       " 25                                                NaN   \n",
       " \n",
       "                                                     1  \\\n",
       " 0                                                 NaN   \n",
       " 1   Africa Antarctica Asia Australia Europe North ...   \n",
       " 2                                                 NaN   \n",
       " 3                                              Africa   \n",
       " 4                Afro-Eurasia America Eurasia Oceania   \n",
       " 5                                                 NaN   \n",
       " 6                                        Afro-Eurasia   \n",
       " 7   Former supercontinentsGondwana Laurasia Pangae...   \n",
       " 8                                                 NaN   \n",
       " 9   Former supercontinentsGondwana Laurasia Pangae...   \n",
       " 10  Submerged continentsKerguelen Plateau Zealandi...   \n",
       " 11                                                NaN   \n",
       " 12  Submerged continentsKerguelen Plateau Zealandi...   \n",
       " 13                                                NaN   \n",
       " 14                                                NaN   \n",
       " 15                                             Africa   \n",
       " 16                                             Africa   \n",
       " 17                                                NaN   \n",
       " 18                                       Afro-Eurasia   \n",
       " 19                                       Afro-Eurasia   \n",
       " 20                                                NaN   \n",
       " 21  Former supercontinentsGondwana Laurasia Pangae...   \n",
       " 22  Former supercontinentsGondwana Laurasia Pangae...   \n",
       " 23                                                NaN   \n",
       " 24  Submerged continentsKerguelen Plateau Zealandi...   \n",
       " 25  Submerged continentsKerguelen Plateau Zealandi...   \n",
       " \n",
       "                                                     2  \\\n",
       " 0                                                 NaN   \n",
       " 1                                                 NaN   \n",
       " 2                                              Africa   \n",
       " 3                                          Antarctica   \n",
       " 4                                                 NaN   \n",
       " 5                                        Afro-Eurasia   \n",
       " 6                                             America   \n",
       " 7                                                 NaN   \n",
       " 8   Former supercontinentsGondwana Laurasia Pangae...   \n",
       " 9   Historical continentsAmazonia Arctica Asiameri...   \n",
       " 10                                                NaN   \n",
       " 11  Submerged continentsKerguelen Plateau Zealandi...   \n",
       " 12  Possible future supercontinentsPangaea Ultima ...   \n",
       " 13                                                NaN   \n",
       " 14                                             Africa   \n",
       " 15                                         Antarctica   \n",
       " 16                                         Antarctica   \n",
       " 17                                       Afro-Eurasia   \n",
       " 18                                            America   \n",
       " 19                                            America   \n",
       " 20  Former supercontinentsGondwana Laurasia Pangae...   \n",
       " 21  Historical continentsAmazonia Arctica Asiameri...   \n",
       " 22  Historical continentsAmazonia Arctica Asiameri...   \n",
       " 23  Submerged continentsKerguelen Plateau Zealandi...   \n",
       " 24  Possible future supercontinentsPangaea Ultima ...   \n",
       " 25  Possible future supercontinentsPangaea Ultima ...   \n",
       " \n",
       "                                                     3  \\\n",
       " 0                                                 NaN   \n",
       " 1                                              Africa   \n",
       " 2                                          Antarctica   \n",
       " 3                                                Asia   \n",
       " 4                                        Afro-Eurasia   \n",
       " 5                                             America   \n",
       " 6                                             Eurasia   \n",
       " 7   Former supercontinentsGondwana Laurasia Pangae...   \n",
       " 8   Historical continentsAmazonia Arctica Asiameri...   \n",
       " 9                                                 NaN   \n",
       " 10  Submerged continentsKerguelen Plateau Zealandi...   \n",
       " 11  Possible future supercontinentsPangaea Ultima ...   \n",
       " 12  Mythical and hypothesised continentsAtlantis K...   \n",
       " 13                                                NaN   \n",
       " 14                                         Antarctica   \n",
       " 15                                               Asia   \n",
       " 16                                               Asia   \n",
       " 17                                            America   \n",
       " 18                                            Eurasia   \n",
       " 19                                            Eurasia   \n",
       " 20  Historical continentsAmazonia Arctica Asiameri...   \n",
       " 21                                                NaN   \n",
       " 22                                                NaN   \n",
       " 23  Possible future supercontinentsPangaea Ultima ...   \n",
       " 24  Mythical and hypothesised continentsAtlantis K...   \n",
       " 25  Mythical and hypothesised continentsAtlantis K...   \n",
       " \n",
       "                                                     4  \\\n",
       " 0                                                 NaN   \n",
       " 1                                          Antarctica   \n",
       " 2                                                Asia   \n",
       " 3                                           Australia   \n",
       " 4                                             America   \n",
       " 5                                             Eurasia   \n",
       " 6                                             Oceania   \n",
       " 7   Historical continentsAmazonia Arctica Asiameri...   \n",
       " 8                                                 NaN   \n",
       " 9                                                 NaN   \n",
       " 10  Possible future supercontinentsPangaea Ultima ...   \n",
       " 11  Mythical and hypothesised continentsAtlantis K...   \n",
       " 12  SubcontinentsArabian peninsula Indian subconti...   \n",
       " 13                                                NaN   \n",
       " 14                                               Asia   \n",
       " 15                                          Australia   \n",
       " 16                                          Australia   \n",
       " 17                                            Eurasia   \n",
       " 18                                            Oceania   \n",
       " 19                                            Oceania   \n",
       " 20                                                NaN   \n",
       " 21                                                NaN   \n",
       " 22                                                NaN   \n",
       " 23  Mythical and hypothesised continentsAtlantis K...   \n",
       " 24  SubcontinentsArabian peninsula Indian subconti...   \n",
       " 25  SubcontinentsArabian peninsula Indian subconti...   \n",
       " \n",
       "                                                     5  \\\n",
       " 0                                                 NaN   \n",
       " 1                                                Asia   \n",
       " 2                                           Australia   \n",
       " 3                                              Europe   \n",
       " 4                                             Eurasia   \n",
       " 5                                             Oceania   \n",
       " 6                                                 NaN   \n",
       " 7                                                 NaN   \n",
       " 8                                                 NaN   \n",
       " 9                                                 NaN   \n",
       " 10  Mythical and hypothesised continentsAtlantis K...   \n",
       " 11  SubcontinentsArabian peninsula Indian subconti...   \n",
       " 12                                                NaN   \n",
       " 13                                                NaN   \n",
       " 14                                          Australia   \n",
       " 15                                             Europe   \n",
       " 16                                             Europe   \n",
       " 17                                            Oceania   \n",
       " 18                                                NaN   \n",
       " 19                                                NaN   \n",
       " 20                                                NaN   \n",
       " 21                                                NaN   \n",
       " 22                                                NaN   \n",
       " 23  SubcontinentsArabian peninsula Indian subconti...   \n",
       " 24                                                NaN   \n",
       " 25                                                NaN   \n",
       " \n",
       "                                                     6              7  \\\n",
       " 0                                                 NaN            NaN   \n",
       " 1                                           Australia         Europe   \n",
       " 2                                              Europe  North America   \n",
       " 3                                       North America  South America   \n",
       " 4                                             Oceania            NaN   \n",
       " 5                                                 NaN            NaN   \n",
       " 6                                                 NaN            NaN   \n",
       " 7                                                 NaN            NaN   \n",
       " 8                                                 NaN            NaN   \n",
       " 9                                                 NaN            NaN   \n",
       " 10  SubcontinentsArabian peninsula Indian subconti...            NaN   \n",
       " 11                                                NaN            NaN   \n",
       " 12                                                NaN            NaN   \n",
       " 13                                                NaN            NaN   \n",
       " 14                                             Europe  North America   \n",
       " 15                                      North America  South America   \n",
       " 16                                      North America  South America   \n",
       " 17                                                NaN            NaN   \n",
       " 18                                                NaN            NaN   \n",
       " 19                                                NaN            NaN   \n",
       " 20                                                NaN            NaN   \n",
       " 21                                                NaN            NaN   \n",
       " 22                                                NaN            NaN   \n",
       " 23                                                NaN            NaN   \n",
       " 24                                                NaN            NaN   \n",
       " 25                                                NaN            NaN   \n",
       " \n",
       "                 8              9  \n",
       " 0             NaN            NaN  \n",
       " 1   North America  South America  \n",
       " 2   South America            NaN  \n",
       " 3             NaN            NaN  \n",
       " 4             NaN            NaN  \n",
       " 5             NaN            NaN  \n",
       " 6             NaN            NaN  \n",
       " 7             NaN            NaN  \n",
       " 8             NaN            NaN  \n",
       " 9             NaN            NaN  \n",
       " 10            NaN            NaN  \n",
       " 11            NaN            NaN  \n",
       " 12            NaN            NaN  \n",
       " 13            NaN            NaN  \n",
       " 14  South America            NaN  \n",
       " 15            NaN            NaN  \n",
       " 16            NaN            NaN  \n",
       " 17            NaN            NaN  \n",
       " 18            NaN            NaN  \n",
       " 19            NaN            NaN  \n",
       " 20            NaN            NaN  \n",
       " 21            NaN            NaN  \n",
       " 22            NaN            NaN  \n",
       " 23            NaN            NaN  \n",
       " 24            NaN            NaN  \n",
       " 25            NaN            NaN  ,\n",
       "                                                    0       1           2  \\\n",
       " 0  Africa Antarctica Asia Australia Europe North ...     NaN      Africa   \n",
       " 1                                                NaN  Africa  Antarctica   \n",
       " 2                                                NaN  Africa  Antarctica   \n",
       " \n",
       "             3          4          5              6              7  \\\n",
       " 0  Antarctica       Asia  Australia         Europe  North America   \n",
       " 1        Asia  Australia     Europe  North America  South America   \n",
       " 2        Asia  Australia     Europe  North America  South America   \n",
       " \n",
       "                8  \n",
       " 0  South America  \n",
       " 1            NaN  \n",
       " 2            NaN  ,\n",
       "     0       1           2     3          4       5              6  \\\n",
       " 0 NaN  Africa  Antarctica  Asia  Australia  Europe  North America   \n",
       " \n",
       "                7  \n",
       " 0  South America  ,\n",
       "                                       0             1             2        3  \\\n",
       " 0  Afro-Eurasia America Eurasia Oceania           NaN  Afro-Eurasia  America   \n",
       " 1                                   NaN  Afro-Eurasia       America  Eurasia   \n",
       " 2                                   NaN  Afro-Eurasia       America  Eurasia   \n",
       " \n",
       "          4        5  \n",
       " 0  Eurasia  Oceania  \n",
       " 1  Oceania      NaN  \n",
       " 2  Oceania      NaN  ,\n",
       "     0             1        2        3        4\n",
       " 0 NaN  Afro-Eurasia  America  Eurasia  Oceania,\n",
       "                                                    0  \\\n",
       " 0  Former supercontinentsGondwana Laurasia Pangae...   \n",
       " 1                                                NaN   \n",
       " 2                                                NaN   \n",
       " \n",
       "                                                    1  \\\n",
       " 0                                                NaN   \n",
       " 1  Former supercontinentsGondwana Laurasia Pangae...   \n",
       " 2  Former supercontinentsGondwana Laurasia Pangae...   \n",
       " \n",
       "                                                    2  \\\n",
       " 0  Former supercontinentsGondwana Laurasia Pangae...   \n",
       " 1  Historical continentsAmazonia Arctica Asiameri...   \n",
       " 2  Historical continentsAmazonia Arctica Asiameri...   \n",
       " \n",
       "                                                    3  \n",
       " 0  Historical continentsAmazonia Arctica Asiameri...  \n",
       " 1                                                NaN  \n",
       " 2                                                NaN  ,\n",
       "     0                                                  1  \\\n",
       " 0 NaN  Former supercontinentsGondwana Laurasia Pangae...   \n",
       " \n",
       "                                                    2  \n",
       " 0  Historical continentsAmazonia Arctica Asiameri...  ,\n",
       "                                                    0  \\\n",
       " 0  Submerged continentsKerguelen Plateau Zealandi...   \n",
       " 1                                                NaN   \n",
       " 2                                                NaN   \n",
       " \n",
       "                                                    1  \\\n",
       " 0                                                NaN   \n",
       " 1  Submerged continentsKerguelen Plateau Zealandi...   \n",
       " 2  Submerged continentsKerguelen Plateau Zealandi...   \n",
       " \n",
       "                                                    2  \\\n",
       " 0  Submerged continentsKerguelen Plateau Zealandi...   \n",
       " 1  Possible future supercontinentsPangaea Ultima ...   \n",
       " 2  Possible future supercontinentsPangaea Ultima ...   \n",
       " \n",
       "                                                    3  \\\n",
       " 0  Possible future supercontinentsPangaea Ultima ...   \n",
       " 1  Mythical and hypothesised continentsAtlantis K...   \n",
       " 2  Mythical and hypothesised continentsAtlantis K...   \n",
       " \n",
       "                                                    4  \\\n",
       " 0  Mythical and hypothesised continentsAtlantis K...   \n",
       " 1  SubcontinentsArabian peninsula Indian subconti...   \n",
       " 2  SubcontinentsArabian peninsula Indian subconti...   \n",
       " \n",
       "                                                    5  \n",
       " 0  SubcontinentsArabian peninsula Indian subconti...  \n",
       " 1                                                NaN  \n",
       " 2                                                NaN  ,\n",
       "     0                                                  1  \\\n",
       " 0 NaN  Submerged continentsKerguelen Plateau Zealandi...   \n",
       " \n",
       "                                                    2  \\\n",
       " 0  Possible future supercontinentsPangaea Ultima ...   \n",
       " \n",
       "                                                    3  \\\n",
       " 0  Mythical and hypothesised continentsAtlantis K...   \n",
       " \n",
       "                                                    4  \n",
       " 0  SubcontinentsArabian peninsula Indian subconti...  ,\n",
       "                                                    0   \\\n",
       " 0                             vteRegions of the world   \n",
       " 1   vteRegions of AfricaCentral Africa Guinea regi...   \n",
       " 2                                vteRegions of Africa   \n",
       " 3                                      Central Africa   \n",
       " 4                                         East Africa   \n",
       " 5                                        North Africa   \n",
       " 6                                         West Africa   \n",
       " 7                                     Southern Africa   \n",
       " 8                                       Macro-regions   \n",
       " 9                                  vteRegions of Asia   \n",
       " 10                                            Central   \n",
       " 11                                              North   \n",
       " 12                                               East   \n",
       " 13                                               West   \n",
       " 14                                              South   \n",
       " 15                                          Southeast   \n",
       " 16            Asia-Pacific Tropical Asia Ring of Fire   \n",
       " 17                               vteRegions of Europe   \n",
       " 18                                              North   \n",
       " 19                                               East   \n",
       " 20                                            Central   \n",
       " 21                                               West   \n",
       " 22                                              South   \n",
       " 23  Germanic Romance Celtic Slavic countries Urali...   \n",
       " 24                        vteRegions of North America   \n",
       " 25                                           Northern   \n",
       " 26                                              Latin   \n",
       " 27  Aridoamerica Mesoamerica Oasisamerica Northern...   \n",
       " 28                              vteRegions of Oceania   \n",
       " 29                                        Australasia   \n",
       " ..                                                ...   \n",
       " 70                                               West   \n",
       " 71                                              South   \n",
       " 72  Germanic Romance Celtic Slavic countries Urali...   \n",
       " 73                        vteRegions of North America   \n",
       " 74                                           Northern   \n",
       " 75                                              Latin   \n",
       " 76  Aridoamerica Mesoamerica Oasisamerica Northern...   \n",
       " 77                              vteRegions of Oceania   \n",
       " 78                                        Australasia   \n",
       " 79                                          Melanesia   \n",
       " 80                                         Micronesia   \n",
       " 81                                          Polynesia   \n",
       " 82                                       Ring of Fire   \n",
       " 83                        vteRegions of South America   \n",
       " 84                                               East   \n",
       " 85                                              North   \n",
       " 86                                              South   \n",
       " 87                                               West   \n",
       " 88  Latin Hispanic American Cordillera Ring of Fir...   \n",
       " 89                                   vtePolar regions   \n",
       " 90                                          Antarctic   \n",
       " 91                                             Arctic   \n",
       " 92                         vteEarth's oceans and seas   \n",
       " 93                                       Arctic Ocean   \n",
       " 94                                     Atlantic Ocean   \n",
       " 95                                       Indian Ocean   \n",
       " 96                                      Pacific Ocean   \n",
       " 97                                     Southern Ocean   \n",
       " 98                                    Landlocked seas   \n",
       " 99                                     Book  Category   \n",
       " \n",
       "                                                    1               2   \\\n",
       " 0                                                 NaN             NaN   \n",
       " 1                                vteRegions of Africa  Central Africa   \n",
       " 2                                                 NaN             NaN   \n",
       " 3   Guinea region Gulf of Guinea Cape Lopez Mayomb...             NaN   \n",
       " 4   African Great Lakes Albertine Rift East Africa...             NaN   \n",
       " 5   Maghreb Ifriqiya Barbary Coast Bashmur Ancient...             NaN   \n",
       " 6   Pepper Coast Gold Coast Slave Coast Ivory Coas...             NaN   \n",
       " 7   Madagascar Central Highlands (Madagascar) Nort...             NaN   \n",
       " 8   Aethiopia Arab world Commonwealth realm East A...             NaN   \n",
       " 9                                                 NaN             NaN   \n",
       " 10  Greater Middle East Aral Sea Aralkum Desert Ca...             NaN   \n",
       " 11  Inner Asia Northeast Ural Ural Mountains Far E...             NaN   \n",
       " 12  Orient Japanese archipelago Northeastern Japan...             NaN   \n",
       " 13  Greater Middle East MENA MENASA Middle East Re...             NaN   \n",
       " 14  Orient Greater India Indian subcontinent Himal...             NaN   \n",
       " 15  Orient Sundaland Mainland Indochina Malay Peni...             NaN   \n",
       " 16                                                NaN             NaN   \n",
       " 17                                                NaN             NaN   \n",
       " 18  Nordic Northwestern Scandinavia Scandinavian P...             NaN   \n",
       " 19  Danubian countries Prussia Galicia Volhynia Do...             NaN   \n",
       " 20  Baltic Baltic Sea Alpine states Alpide belt Mi...             NaN   \n",
       " 21  Benelux Low Countries Northwest British Isles ...             NaN   \n",
       " 22  Italian Peninsula Insular Italy Tuscan Archipe...             NaN   \n",
       " 23                                                NaN             NaN   \n",
       " 24                                                NaN             NaN   \n",
       " 25  Eastern Canada Western Canada Canadian Prairie...             NaN   \n",
       " 26  Northern Mexico Baja California Peninsula Gulf...             NaN   \n",
       " 27                                                NaN             NaN   \n",
       " 28                                                NaN             NaN   \n",
       " 29  Gulf of Carpentaria Zealandia Kula Gulf Austra...             NaN   \n",
       " ..                                                ...             ...   \n",
       " 70  Benelux Low Countries Northwest British Isles ...             NaN   \n",
       " 71  Italian Peninsula Insular Italy Tuscan Archipe...             NaN   \n",
       " 72                                                NaN             NaN   \n",
       " 73                                                NaN             NaN   \n",
       " 74  Eastern Canada Western Canada Canadian Prairie...             NaN   \n",
       " 75  Northern Mexico Baja California Peninsula Gulf...             NaN   \n",
       " 76                                                NaN             NaN   \n",
       " 77                                                NaN             NaN   \n",
       " 78  Gulf of Carpentaria Zealandia Kula Gulf Austra...             NaN   \n",
       " 79  Islands Region Bismarck Archipelago Solomon Is...             NaN   \n",
       " 80  Caroline Islands Federated States of Micronesi...             NaN   \n",
       " 81  Easter Island Hawaiian Islands Cook Islands Fr...             NaN   \n",
       " 82                                                NaN             NaN   \n",
       " 83                                                NaN             NaN   \n",
       " 84      Amazon basin Atlantic Forest Caatinga Cerrado             NaN   \n",
       " 85  Caribbean South America West Indies Los Llanos...             NaN   \n",
       " 86  Tierra del Fuego Patagonia Pampas Pantanal Gra...             NaN   \n",
       " 87  Andes Tropical Andes Wet Andes Dry Andes Paria...             NaN   \n",
       " 88                                                NaN             NaN   \n",
       " 89                                                NaN             NaN   \n",
       " 90  Antarctic Peninsula East Antarctica West Antar...             NaN   \n",
       " 91  Arctic Alaska British Arctic Territories Canad...             NaN   \n",
       " 92                                                NaN             NaN   \n",
       " 93  Amundsen Gulf Barents Sea Beaufort Sea Chukchi...             NaN   \n",
       " 94  Adriatic Sea Aegean Sea Alboran Sea Archipelag...             NaN   \n",
       " 95  Andaman Sea Arabian Sea Bali Sea Bay of Bengal...             NaN   \n",
       " 96  Arafura Sea Banda Sea Bering Sea Bismarck Sea ...             NaN   \n",
       " 97  Amundsen Sea Bellingshausen Sea Cooperation Se...             NaN   \n",
       " 98           Aral Sea Caspian Sea Dead Sea Salton Sea             NaN   \n",
       " 99                                                NaN             NaN   \n",
       " \n",
       "                                                    3            4   \\\n",
       " 0                                                 NaN          NaN   \n",
       " 1   Guinea region Gulf of Guinea Cape Lopez Mayomb...  East Africa   \n",
       " 2                                                 NaN          NaN   \n",
       " 3                                                 NaN          NaN   \n",
       " 4                                                 NaN          NaN   \n",
       " 5                                                 NaN          NaN   \n",
       " 6                                                 NaN          NaN   \n",
       " 7                                                 NaN          NaN   \n",
       " 8                                                 NaN          NaN   \n",
       " 9                                                 NaN          NaN   \n",
       " 10                                                NaN          NaN   \n",
       " 11                                                NaN          NaN   \n",
       " 12                                                NaN          NaN   \n",
       " 13                                                NaN          NaN   \n",
       " 14                                                NaN          NaN   \n",
       " 15                                                NaN          NaN   \n",
       " 16                                                NaN          NaN   \n",
       " 17                                                NaN          NaN   \n",
       " 18                                                NaN          NaN   \n",
       " 19                                                NaN          NaN   \n",
       " 20                                                NaN          NaN   \n",
       " 21                                                NaN          NaN   \n",
       " 22                                                NaN          NaN   \n",
       " 23                                                NaN          NaN   \n",
       " 24                                                NaN          NaN   \n",
       " 25                                                NaN          NaN   \n",
       " 26                                                NaN          NaN   \n",
       " 27                                                NaN          NaN   \n",
       " 28                                                NaN          NaN   \n",
       " 29                                                NaN          NaN   \n",
       " ..                                                ...          ...   \n",
       " 70                                                NaN          NaN   \n",
       " 71                                                NaN          NaN   \n",
       " 72                                                NaN          NaN   \n",
       " 73                                                NaN          NaN   \n",
       " 74                                                NaN          NaN   \n",
       " 75                                                NaN          NaN   \n",
       " 76                                                NaN          NaN   \n",
       " 77                                                NaN          NaN   \n",
       " 78                                                NaN          NaN   \n",
       " 79                                                NaN          NaN   \n",
       " 80                                                NaN          NaN   \n",
       " 81                                                NaN          NaN   \n",
       " 82                                                NaN          NaN   \n",
       " 83                                                NaN          NaN   \n",
       " 84                                                NaN          NaN   \n",
       " 85                                                NaN          NaN   \n",
       " 86                                                NaN          NaN   \n",
       " 87                                                NaN          NaN   \n",
       " 88                                                NaN          NaN   \n",
       " 89                                                NaN          NaN   \n",
       " 90                                                NaN          NaN   \n",
       " 91                                                NaN          NaN   \n",
       " 92                                                NaN          NaN   \n",
       " 93                                                NaN          NaN   \n",
       " 94                                                NaN          NaN   \n",
       " 95                                                NaN          NaN   \n",
       " 96                                                NaN          NaN   \n",
       " 97                                                NaN          NaN   \n",
       " 98                                                NaN          NaN   \n",
       " 99                                                NaN          NaN   \n",
       " \n",
       "                                                    5             6   \\\n",
       " 0                                                 NaN           NaN   \n",
       " 1   African Great Lakes Albertine Rift East Africa...  North Africa   \n",
       " 2                                                 NaN           NaN   \n",
       " 3                                                 NaN           NaN   \n",
       " 4                                                 NaN           NaN   \n",
       " 5                                                 NaN           NaN   \n",
       " 6                                                 NaN           NaN   \n",
       " 7                                                 NaN           NaN   \n",
       " 8                                                 NaN           NaN   \n",
       " 9                                                 NaN           NaN   \n",
       " 10                                                NaN           NaN   \n",
       " 11                                                NaN           NaN   \n",
       " 12                                                NaN           NaN   \n",
       " 13                                                NaN           NaN   \n",
       " 14                                                NaN           NaN   \n",
       " 15                                                NaN           NaN   \n",
       " 16                                                NaN           NaN   \n",
       " 17                                                NaN           NaN   \n",
       " 18                                                NaN           NaN   \n",
       " 19                                                NaN           NaN   \n",
       " 20                                                NaN           NaN   \n",
       " 21                                                NaN           NaN   \n",
       " 22                                                NaN           NaN   \n",
       " 23                                                NaN           NaN   \n",
       " 24                                                NaN           NaN   \n",
       " 25                                                NaN           NaN   \n",
       " 26                                                NaN           NaN   \n",
       " 27                                                NaN           NaN   \n",
       " 28                                                NaN           NaN   \n",
       " 29                                                NaN           NaN   \n",
       " ..                                                ...           ...   \n",
       " 70                                                NaN           NaN   \n",
       " 71                                                NaN           NaN   \n",
       " 72                                                NaN           NaN   \n",
       " 73                                                NaN           NaN   \n",
       " 74                                                NaN           NaN   \n",
       " 75                                                NaN           NaN   \n",
       " 76                                                NaN           NaN   \n",
       " 77                                                NaN           NaN   \n",
       " 78                                                NaN           NaN   \n",
       " 79                                                NaN           NaN   \n",
       " 80                                                NaN           NaN   \n",
       " 81                                                NaN           NaN   \n",
       " 82                                                NaN           NaN   \n",
       " 83                                                NaN           NaN   \n",
       " 84                                                NaN           NaN   \n",
       " 85                                                NaN           NaN   \n",
       " 86                                                NaN           NaN   \n",
       " 87                                                NaN           NaN   \n",
       " 88                                                NaN           NaN   \n",
       " 89                                                NaN           NaN   \n",
       " 90                                                NaN           NaN   \n",
       " 91                                                NaN           NaN   \n",
       " 92                                                NaN           NaN   \n",
       " 93                                                NaN           NaN   \n",
       " 94                                                NaN           NaN   \n",
       " 95                                                NaN           NaN   \n",
       " 96                                                NaN           NaN   \n",
       " 97                                                NaN           NaN   \n",
       " 98                                                NaN           NaN   \n",
       " 99                                                NaN           NaN   \n",
       " \n",
       "                                                    7            8   \\\n",
       " 0                                                 NaN          NaN   \n",
       " 1   Maghreb Ifriqiya Barbary Coast Bashmur Ancient...  West Africa   \n",
       " 2                                                 NaN          NaN   \n",
       " 3                                                 NaN          NaN   \n",
       " 4                                                 NaN          NaN   \n",
       " 5                                                 NaN          NaN   \n",
       " 6                                                 NaN          NaN   \n",
       " 7                                                 NaN          NaN   \n",
       " 8                                                 NaN          NaN   \n",
       " 9                                                 NaN          NaN   \n",
       " 10                                                NaN          NaN   \n",
       " 11                                                NaN          NaN   \n",
       " 12                                                NaN          NaN   \n",
       " 13                                                NaN          NaN   \n",
       " 14                                                NaN          NaN   \n",
       " 15                                                NaN          NaN   \n",
       " 16                                                NaN          NaN   \n",
       " 17                                                NaN          NaN   \n",
       " 18                                                NaN          NaN   \n",
       " 19                                                NaN          NaN   \n",
       " 20                                                NaN          NaN   \n",
       " 21                                                NaN          NaN   \n",
       " 22                                                NaN          NaN   \n",
       " 23                                                NaN          NaN   \n",
       " 24                                                NaN          NaN   \n",
       " 25                                                NaN          NaN   \n",
       " 26                                                NaN          NaN   \n",
       " 27                                                NaN          NaN   \n",
       " 28                                                NaN          NaN   \n",
       " 29                                                NaN          NaN   \n",
       " ..                                                ...          ...   \n",
       " 70                                                NaN          NaN   \n",
       " 71                                                NaN          NaN   \n",
       " 72                                                NaN          NaN   \n",
       " 73                                                NaN          NaN   \n",
       " 74                                                NaN          NaN   \n",
       " 75                                                NaN          NaN   \n",
       " 76                                                NaN          NaN   \n",
       " 77                                                NaN          NaN   \n",
       " 78                                                NaN          NaN   \n",
       " 79                                                NaN          NaN   \n",
       " 80                                                NaN          NaN   \n",
       " 81                                                NaN          NaN   \n",
       " 82                                                NaN          NaN   \n",
       " 83                                                NaN          NaN   \n",
       " 84                                                NaN          NaN   \n",
       " 85                                                NaN          NaN   \n",
       " 86                                                NaN          NaN   \n",
       " 87                                                NaN          NaN   \n",
       " 88                                                NaN          NaN   \n",
       " 89                                                NaN          NaN   \n",
       " 90                                                NaN          NaN   \n",
       " 91                                                NaN          NaN   \n",
       " 92                                                NaN          NaN   \n",
       " 93                                                NaN          NaN   \n",
       " 94                                                NaN          NaN   \n",
       " 95                                                NaN          NaN   \n",
       " 96                                                NaN          NaN   \n",
       " 97                                                NaN          NaN   \n",
       " 98                                                NaN          NaN   \n",
       " 99                                                NaN          NaN   \n",
       " \n",
       "                                                    9        ...        \\\n",
       " 0                                                 NaN       ...         \n",
       " 1   Pepper Coast Gold Coast Slave Coast Ivory Coas...       ...         \n",
       " 2                                                 NaN       ...         \n",
       " 3                                                 NaN       ...         \n",
       " 4                                                 NaN       ...         \n",
       " 5                                                 NaN       ...         \n",
       " 6                                                 NaN       ...         \n",
       " 7                                                 NaN       ...         \n",
       " 8                                                 NaN       ...         \n",
       " 9                                                 NaN       ...         \n",
       " 10                                                NaN       ...         \n",
       " 11                                                NaN       ...         \n",
       " 12                                                NaN       ...         \n",
       " 13                                                NaN       ...         \n",
       " 14                                                NaN       ...         \n",
       " 15                                                NaN       ...         \n",
       " 16                                                NaN       ...         \n",
       " 17                                                NaN       ...         \n",
       " 18                                                NaN       ...         \n",
       " 19                                                NaN       ...         \n",
       " 20                                                NaN       ...         \n",
       " 21                                                NaN       ...         \n",
       " 22                                                NaN       ...         \n",
       " 23                                                NaN       ...         \n",
       " 24                                                NaN       ...         \n",
       " 25                                                NaN       ...         \n",
       " 26                                                NaN       ...         \n",
       " 27                                                NaN       ...         \n",
       " 28                                                NaN       ...         \n",
       " 29                                                NaN       ...         \n",
       " ..                                                ...       ...         \n",
       " 70                                                NaN       ...         \n",
       " 71                                                NaN       ...         \n",
       " 72                                                NaN       ...         \n",
       " 73                                                NaN       ...         \n",
       " 74                                                NaN       ...         \n",
       " 75                                                NaN       ...         \n",
       " 76                                                NaN       ...         \n",
       " 77                                                NaN       ...         \n",
       " 78                                                NaN       ...         \n",
       " 79                                                NaN       ...         \n",
       " 80                                                NaN       ...         \n",
       " 81                                                NaN       ...         \n",
       " 82                                                NaN       ...         \n",
       " 83                                                NaN       ...         \n",
       " 84                                                NaN       ...         \n",
       " 85                                                NaN       ...         \n",
       " 86                                                NaN       ...         \n",
       " 87                                                NaN       ...         \n",
       " 88                                                NaN       ...         \n",
       " 89                                                NaN       ...         \n",
       " 90                                                NaN       ...         \n",
       " 91                                                NaN       ...         \n",
       " 92                                                NaN       ...         \n",
       " 93                                                NaN       ...         \n",
       " 94                                                NaN       ...         \n",
       " 95                                                NaN       ...         \n",
       " 96                                                NaN       ...         \n",
       " 97                                                NaN       ...         \n",
       " 98                                                NaN       ...         \n",
       " 99                                                NaN       ...         \n",
       " \n",
       "                                                    75            76  \\\n",
       " 0                                                 NaN           NaN   \n",
       " 1   Adriatic Sea Aegean Sea Alboran Sea Archipelag...  Indian Ocean   \n",
       " 2                                                 NaN           NaN   \n",
       " 3                                                 NaN           NaN   \n",
       " 4                                                 NaN           NaN   \n",
       " 5                                                 NaN           NaN   \n",
       " 6                                                 NaN           NaN   \n",
       " 7                                                 NaN           NaN   \n",
       " 8                                                 NaN           NaN   \n",
       " 9                                                 NaN           NaN   \n",
       " 10                                                NaN           NaN   \n",
       " 11                                                NaN           NaN   \n",
       " 12                                                NaN           NaN   \n",
       " 13                                                NaN           NaN   \n",
       " 14                                                NaN           NaN   \n",
       " 15                                                NaN           NaN   \n",
       " 16                                                NaN           NaN   \n",
       " 17                                                NaN           NaN   \n",
       " 18                                                NaN           NaN   \n",
       " 19                                                NaN           NaN   \n",
       " 20                                                NaN           NaN   \n",
       " 21                                                NaN           NaN   \n",
       " 22                                                NaN           NaN   \n",
       " 23                                                NaN           NaN   \n",
       " 24                                                NaN           NaN   \n",
       " 25                                                NaN           NaN   \n",
       " 26                                                NaN           NaN   \n",
       " 27                                                NaN           NaN   \n",
       " 28                                                NaN           NaN   \n",
       " 29                                                NaN           NaN   \n",
       " ..                                                ...           ...   \n",
       " 70                                                NaN           NaN   \n",
       " 71                                                NaN           NaN   \n",
       " 72                                                NaN           NaN   \n",
       " 73                                                NaN           NaN   \n",
       " 74                                                NaN           NaN   \n",
       " 75                                                NaN           NaN   \n",
       " 76                                                NaN           NaN   \n",
       " 77                                                NaN           NaN   \n",
       " 78                                                NaN           NaN   \n",
       " 79                                                NaN           NaN   \n",
       " 80                                                NaN           NaN   \n",
       " 81                                                NaN           NaN   \n",
       " 82                                                NaN           NaN   \n",
       " 83                                                NaN           NaN   \n",
       " 84                                                NaN           NaN   \n",
       " 85                                                NaN           NaN   \n",
       " 86                                                NaN           NaN   \n",
       " 87                                                NaN           NaN   \n",
       " 88                                                NaN           NaN   \n",
       " 89                                                NaN           NaN   \n",
       " 90                                                NaN           NaN   \n",
       " 91                                                NaN           NaN   \n",
       " 92                                                NaN           NaN   \n",
       " 93                                                NaN           NaN   \n",
       " 94                                                NaN           NaN   \n",
       " 95                                                NaN           NaN   \n",
       " 96                                                NaN           NaN   \n",
       " 97                                                NaN           NaN   \n",
       " 98                                                NaN           NaN   \n",
       " 99                                                NaN           NaN   \n",
       " \n",
       "                                                    77             78  \\\n",
       " 0                                                 NaN            NaN   \n",
       " 1   Andaman Sea Arabian Sea Bali Sea Bay of Bengal...  Pacific Ocean   \n",
       " 2                                                 NaN            NaN   \n",
       " 3                                                 NaN            NaN   \n",
       " 4                                                 NaN            NaN   \n",
       " 5                                                 NaN            NaN   \n",
       " 6                                                 NaN            NaN   \n",
       " 7                                                 NaN            NaN   \n",
       " 8                                                 NaN            NaN   \n",
       " 9                                                 NaN            NaN   \n",
       " 10                                                NaN            NaN   \n",
       " 11                                                NaN            NaN   \n",
       " 12                                                NaN            NaN   \n",
       " 13                                                NaN            NaN   \n",
       " 14                                                NaN            NaN   \n",
       " 15                                                NaN            NaN   \n",
       " 16                                                NaN            NaN   \n",
       " 17                                                NaN            NaN   \n",
       " 18                                                NaN            NaN   \n",
       " 19                                                NaN            NaN   \n",
       " 20                                                NaN            NaN   \n",
       " 21                                                NaN            NaN   \n",
       " 22                                                NaN            NaN   \n",
       " 23                                                NaN            NaN   \n",
       " 24                                                NaN            NaN   \n",
       " 25                                                NaN            NaN   \n",
       " 26                                                NaN            NaN   \n",
       " 27                                                NaN            NaN   \n",
       " 28                                                NaN            NaN   \n",
       " 29                                                NaN            NaN   \n",
       " ..                                                ...            ...   \n",
       " 70                                                NaN            NaN   \n",
       " 71                                                NaN            NaN   \n",
       " 72                                                NaN            NaN   \n",
       " 73                                                NaN            NaN   \n",
       " 74                                                NaN            NaN   \n",
       " 75                                                NaN            NaN   \n",
       " 76                                                NaN            NaN   \n",
       " 77                                                NaN            NaN   \n",
       " 78                                                NaN            NaN   \n",
       " 79                                                NaN            NaN   \n",
       " 80                                                NaN            NaN   \n",
       " 81                                                NaN            NaN   \n",
       " 82                                                NaN            NaN   \n",
       " 83                                                NaN            NaN   \n",
       " 84                                                NaN            NaN   \n",
       " 85                                                NaN            NaN   \n",
       " 86                                                NaN            NaN   \n",
       " 87                                                NaN            NaN   \n",
       " 88                                                NaN            NaN   \n",
       " 89                                                NaN            NaN   \n",
       " 90                                                NaN            NaN   \n",
       " 91                                                NaN            NaN   \n",
       " 92                                                NaN            NaN   \n",
       " 93                                                NaN            NaN   \n",
       " 94                                                NaN            NaN   \n",
       " 95                                                NaN            NaN   \n",
       " 96                                                NaN            NaN   \n",
       " 97                                                NaN            NaN   \n",
       " 98                                                NaN            NaN   \n",
       " 99                                                NaN            NaN   \n",
       " \n",
       "                                                    79              80  \\\n",
       " 0                                                 NaN             NaN   \n",
       " 1   Arafura Sea Banda Sea Bering Sea Bismarck Sea ...  Southern Ocean   \n",
       " 2                                                 NaN             NaN   \n",
       " 3                                                 NaN             NaN   \n",
       " 4                                                 NaN             NaN   \n",
       " 5                                                 NaN             NaN   \n",
       " 6                                                 NaN             NaN   \n",
       " 7                                                 NaN             NaN   \n",
       " 8                                                 NaN             NaN   \n",
       " 9                                                 NaN             NaN   \n",
       " 10                                                NaN             NaN   \n",
       " 11                                                NaN             NaN   \n",
       " 12                                                NaN             NaN   \n",
       " 13                                                NaN             NaN   \n",
       " 14                                                NaN             NaN   \n",
       " 15                                                NaN             NaN   \n",
       " 16                                                NaN             NaN   \n",
       " 17                                                NaN             NaN   \n",
       " 18                                                NaN             NaN   \n",
       " 19                                                NaN             NaN   \n",
       " 20                                                NaN             NaN   \n",
       " 21                                                NaN             NaN   \n",
       " 22                                                NaN             NaN   \n",
       " 23                                                NaN             NaN   \n",
       " 24                                                NaN             NaN   \n",
       " 25                                                NaN             NaN   \n",
       " 26                                                NaN             NaN   \n",
       " 27                                                NaN             NaN   \n",
       " 28                                                NaN             NaN   \n",
       " 29                                                NaN             NaN   \n",
       " ..                                                ...             ...   \n",
       " 70                                                NaN             NaN   \n",
       " 71                                                NaN             NaN   \n",
       " 72                                                NaN             NaN   \n",
       " 73                                                NaN             NaN   \n",
       " 74                                                NaN             NaN   \n",
       " 75                                                NaN             NaN   \n",
       " 76                                                NaN             NaN   \n",
       " 77                                                NaN             NaN   \n",
       " 78                                                NaN             NaN   \n",
       " 79                                                NaN             NaN   \n",
       " 80                                                NaN             NaN   \n",
       " 81                                                NaN             NaN   \n",
       " 82                                                NaN             NaN   \n",
       " 83                                                NaN             NaN   \n",
       " 84                                                NaN             NaN   \n",
       " 85                                                NaN             NaN   \n",
       " 86                                                NaN             NaN   \n",
       " 87                                                NaN             NaN   \n",
       " 88                                                NaN             NaN   \n",
       " 89                                                NaN             NaN   \n",
       " 90                                                NaN             NaN   \n",
       " 91                                                NaN             NaN   \n",
       " 92                                                NaN             NaN   \n",
       " 93                                                NaN             NaN   \n",
       " 94                                                NaN             NaN   \n",
       " 95                                                NaN             NaN   \n",
       " 96                                                NaN             NaN   \n",
       " 97                                                NaN             NaN   \n",
       " 98                                                NaN             NaN   \n",
       " 99                                                NaN             NaN   \n",
       " \n",
       "                                                    81               82  \\\n",
       " 0                                                 NaN              NaN   \n",
       " 1   Amundsen Sea Bellingshausen Sea Cooperation Se...  Landlocked seas   \n",
       " 2                                                 NaN              NaN   \n",
       " 3                                                 NaN              NaN   \n",
       " 4                                                 NaN              NaN   \n",
       " 5                                                 NaN              NaN   \n",
       " 6                                                 NaN              NaN   \n",
       " 7                                                 NaN              NaN   \n",
       " 8                                                 NaN              NaN   \n",
       " 9                                                 NaN              NaN   \n",
       " 10                                                NaN              NaN   \n",
       " 11                                                NaN              NaN   \n",
       " 12                                                NaN              NaN   \n",
       " 13                                                NaN              NaN   \n",
       " 14                                                NaN              NaN   \n",
       " 15                                                NaN              NaN   \n",
       " 16                                                NaN              NaN   \n",
       " 17                                                NaN              NaN   \n",
       " 18                                                NaN              NaN   \n",
       " 19                                                NaN              NaN   \n",
       " 20                                                NaN              NaN   \n",
       " 21                                                NaN              NaN   \n",
       " 22                                                NaN              NaN   \n",
       " 23                                                NaN              NaN   \n",
       " 24                                                NaN              NaN   \n",
       " 25                                                NaN              NaN   \n",
       " 26                                                NaN              NaN   \n",
       " 27                                                NaN              NaN   \n",
       " 28                                                NaN              NaN   \n",
       " 29                                                NaN              NaN   \n",
       " ..                                                ...              ...   \n",
       " 70                                                NaN              NaN   \n",
       " 71                                                NaN              NaN   \n",
       " 72                                                NaN              NaN   \n",
       " 73                                                NaN              NaN   \n",
       " 74                                                NaN              NaN   \n",
       " 75                                                NaN              NaN   \n",
       " 76                                                NaN              NaN   \n",
       " 77                                                NaN              NaN   \n",
       " 78                                                NaN              NaN   \n",
       " 79                                                NaN              NaN   \n",
       " 80                                                NaN              NaN   \n",
       " 81                                                NaN              NaN   \n",
       " 82                                                NaN              NaN   \n",
       " 83                                                NaN              NaN   \n",
       " 84                                                NaN              NaN   \n",
       " 85                                                NaN              NaN   \n",
       " 86                                                NaN              NaN   \n",
       " 87                                                NaN              NaN   \n",
       " 88                                                NaN              NaN   \n",
       " 89                                                NaN              NaN   \n",
       " 90                                                NaN              NaN   \n",
       " 91                                                NaN              NaN   \n",
       " 92                                                NaN              NaN   \n",
       " 93                                                NaN              NaN   \n",
       " 94                                                NaN              NaN   \n",
       " 95                                                NaN              NaN   \n",
       " 96                                                NaN              NaN   \n",
       " 97                                                NaN              NaN   \n",
       " 98                                                NaN              NaN   \n",
       " 99                                                NaN              NaN   \n",
       " \n",
       "                                           83              84  \n",
       " 0                                        NaN             NaN  \n",
       " 1   Aral Sea Caspian Sea Dead Sea Salton Sea  Book  Category  \n",
       " 2                                        NaN             NaN  \n",
       " 3                                        NaN             NaN  \n",
       " 4                                        NaN             NaN  \n",
       " 5                                        NaN             NaN  \n",
       " 6                                        NaN             NaN  \n",
       " 7                                        NaN             NaN  \n",
       " 8                                        NaN             NaN  \n",
       " 9                                        NaN             NaN  \n",
       " 10                                       NaN             NaN  \n",
       " 11                                       NaN             NaN  \n",
       " 12                                       NaN             NaN  \n",
       " 13                                       NaN             NaN  \n",
       " 14                                       NaN             NaN  \n",
       " 15                                       NaN             NaN  \n",
       " 16                                       NaN             NaN  \n",
       " 17                                       NaN             NaN  \n",
       " 18                                       NaN             NaN  \n",
       " 19                                       NaN             NaN  \n",
       " 20                                       NaN             NaN  \n",
       " 21                                       NaN             NaN  \n",
       " 22                                       NaN             NaN  \n",
       " 23                                       NaN             NaN  \n",
       " 24                                       NaN             NaN  \n",
       " 25                                       NaN             NaN  \n",
       " 26                                       NaN             NaN  \n",
       " 27                                       NaN             NaN  \n",
       " 28                                       NaN             NaN  \n",
       " 29                                       NaN             NaN  \n",
       " ..                                       ...             ...  \n",
       " 70                                       NaN             NaN  \n",
       " 71                                       NaN             NaN  \n",
       " 72                                       NaN             NaN  \n",
       " 73                                       NaN             NaN  \n",
       " 74                                       NaN             NaN  \n",
       " 75                                       NaN             NaN  \n",
       " 76                                       NaN             NaN  \n",
       " 77                                       NaN             NaN  \n",
       " 78                                       NaN             NaN  \n",
       " 79                                       NaN             NaN  \n",
       " 80                                       NaN             NaN  \n",
       " 81                                       NaN             NaN  \n",
       " 82                                       NaN             NaN  \n",
       " 83                                       NaN             NaN  \n",
       " 84                                       NaN             NaN  \n",
       " 85                                       NaN             NaN  \n",
       " 86                                       NaN             NaN  \n",
       " 87                                       NaN             NaN  \n",
       " 88                                       NaN             NaN  \n",
       " 89                                       NaN             NaN  \n",
       " 90                                       NaN             NaN  \n",
       " 91                                       NaN             NaN  \n",
       " 92                                       NaN             NaN  \n",
       " 93                                       NaN             NaN  \n",
       " 94                                       NaN             NaN  \n",
       " 95                                       NaN             NaN  \n",
       " 96                                       NaN             NaN  \n",
       " 97                                       NaN             NaN  \n",
       " 98                                       NaN             NaN  \n",
       " 99                                       NaN             NaN  \n",
       " \n",
       " [100 rows x 85 columns],\n",
       "                       0                                                  1\n",
       " 0  vteRegions of Africa                                                NaN\n",
       " 1        Central Africa  Guinea region Gulf of Guinea Cape Lopez Mayomb...\n",
       " 2           East Africa  African Great Lakes Albertine Rift East Africa...\n",
       " 3          North Africa  Maghreb Ifriqiya Barbary Coast Bashmur Ancient...\n",
       " 4           West Africa  Pepper Coast Gold Coast Slave Coast Ivory Coas...\n",
       " 5       Southern Africa  Madagascar Central Highlands (Madagascar) Nort...\n",
       " 6         Macro-regions  Aethiopia Arab world Commonwealth realm East A...,\n",
       "                                          0  \\\n",
       " 0                       vteRegions of Asia   \n",
       " 1                                  Central   \n",
       " 2                                    North   \n",
       " 3                                     East   \n",
       " 4                                     West   \n",
       " 5                                    South   \n",
       " 6                                Southeast   \n",
       " 7  Asia-Pacific Tropical Asia Ring of Fire   \n",
       " \n",
       "                                                    1  \n",
       " 0                                                NaN  \n",
       " 1  Greater Middle East Aral Sea Aralkum Desert Ca...  \n",
       " 2  Inner Asia Northeast Ural Ural Mountains Far E...  \n",
       " 3  Orient Japanese archipelago Northeastern Japan...  \n",
       " 4  Greater Middle East MENA MENASA Middle East Re...  \n",
       " 5  Orient Greater India Indian subcontinent Himal...  \n",
       " 6  Orient Sundaland Mainland Indochina Malay Peni...  \n",
       " 7                                                NaN  ,\n",
       "                                                    0  \\\n",
       " 0                               vteRegions of Europe   \n",
       " 1                                              North   \n",
       " 2                                               East   \n",
       " 3                                            Central   \n",
       " 4                                               West   \n",
       " 5                                              South   \n",
       " 6  Germanic Romance Celtic Slavic countries Urali...   \n",
       " \n",
       "                                                    1  \n",
       " 0                                                NaN  \n",
       " 1  Nordic Northwestern Scandinavia Scandinavian P...  \n",
       " 2  Danubian countries Prussia Galicia Volhynia Do...  \n",
       " 3  Baltic Baltic Sea Alpine states Alpide belt Mi...  \n",
       " 4  Benelux Low Countries Northwest British Isles ...  \n",
       " 5  Italian Peninsula Insular Italy Tuscan Archipe...  \n",
       " 6                                                NaN  ,\n",
       "                                                    0  \\\n",
       " 0                        vteRegions of North America   \n",
       " 1                                           Northern   \n",
       " 2                                              Latin   \n",
       " 3  Aridoamerica Mesoamerica Oasisamerica Northern...   \n",
       " \n",
       "                                                    1  \n",
       " 0                                                NaN  \n",
       " 1  Eastern Canada Western Canada Canadian Prairie...  \n",
       " 2  Northern Mexico Baja California Peninsula Gulf...  \n",
       " 3                                                NaN  ,\n",
       "                        0                                                  1\n",
       " 0  vteRegions of Oceania                                                NaN\n",
       " 1            Australasia  Gulf of Carpentaria Zealandia Kula Gulf Austra...\n",
       " 2              Melanesia  Islands Region Bismarck Archipelago Solomon Is...\n",
       " 3             Micronesia  Caroline Islands Federated States of Micronesi...\n",
       " 4              Polynesia  Easter Island Hawaiian Islands Cook Islands Fr...\n",
       " 5           Ring of Fire                                                NaN,\n",
       "                                                    0  \\\n",
       " 0                        vteRegions of South America   \n",
       " 1                                               East   \n",
       " 2                                              North   \n",
       " 3                                              South   \n",
       " 4                                               West   \n",
       " 5  Latin Hispanic American Cordillera Ring of Fir...   \n",
       " \n",
       "                                                    1  \n",
       " 0                                                NaN  \n",
       " 1      Amazon basin Atlantic Forest Caatinga Cerrado  \n",
       " 2  Caribbean South America West Indies Los Llanos...  \n",
       " 3  Tierra del Fuego Patagonia Pampas Pantanal Gra...  \n",
       " 4  Andes Tropical Andes Wet Andes Dry Andes Paria...  \n",
       " 5                                                NaN  ,\n",
       "                   0                                                  1\n",
       " 0  vtePolar regions                                                NaN\n",
       " 1         Antarctic  Antarctic Peninsula East Antarctica West Antar...\n",
       " 2            Arctic  Arctic Alaska British Arctic Territories Canad...,\n",
       "                             0  \\\n",
       " 0  vteEarth's oceans and seas   \n",
       " 1                Arctic Ocean   \n",
       " 2              Atlantic Ocean   \n",
       " 3                Indian Ocean   \n",
       " 4               Pacific Ocean   \n",
       " 5              Southern Ocean   \n",
       " 6             Landlocked seas   \n",
       " 7              Book  Category   \n",
       " \n",
       "                                                    1  \n",
       " 0                                                NaN  \n",
       " 1  Amundsen Gulf Barents Sea Beaufort Sea Chukchi...  \n",
       " 2  Adriatic Sea Aegean Sea Alboran Sea Archipelag...  \n",
       " 3  Andaman Sea Arabian Sea Bali Sea Bay of Bengal...  \n",
       " 4  Arafura Sea Banda Sea Bering Sea Bismarck Sea ...  \n",
       " 5  Amundsen Sea Bellingshausen Sea Cooperation Se...  \n",
       " 6           Aral Sea Caspian Sea Dead Sea Salton Sea  \n",
       " 7                                                NaN  ,\n",
       "                    0                                1\n",
       " 0  Authority control  GND: 4165153-4 LCCN: sh85031556]"
      ]
     },
     "execution_count": 31,
     "metadata": {},
     "output_type": "execute_result"
    }
   ],
   "source": [
    "pd.read_html(io=\"https://en.wikipedia.org/wiki/Continent\")"
   ]
  },
  {
   "cell_type": "markdown",
   "metadata": {},
   "source": [
    "What we get in return is a list of all tables on that web page parsed into a DataFrame. We are only interested in the one that summarizes area and population, which is the one with the index `2`. Also, we can use the keyword arguments `header` and `index_col` to select the row and column which we will use as labels."
   ]
  },
  {
   "cell_type": "code",
   "execution_count": 32,
   "metadata": {},
   "outputs": [
    {
     "data": {
      "text/html": [
       "<div>\n",
       "<style scoped>\n",
       "    .dataframe tbody tr th:only-of-type {\n",
       "        vertical-align: middle;\n",
       "    }\n",
       "\n",
       "    .dataframe tbody tr th {\n",
       "        vertical-align: top;\n",
       "    }\n",
       "\n",
       "    .dataframe thead th {\n",
       "        text-align: right;\n",
       "    }\n",
       "</style>\n",
       "<table border=\"1\" class=\"dataframe\">\n",
       "  <thead>\n",
       "    <tr style=\"text-align: right;\">\n",
       "      <th></th>\n",
       "      <th>Unnamed: 1</th>\n",
       "      <th>Area (km²)[not in citation given]</th>\n",
       "      <th>Area (mi²)[not in citation given]</th>\n",
       "      <th>Percenttotallandmass[not in citation given]</th>\n",
       "      <th>Population</th>\n",
       "      <th>Percenttotal pop.</th>\n",
       "      <th>Most populouscity (proper)</th>\n",
       "    </tr>\n",
       "    <tr>\n",
       "      <th>Continent</th>\n",
       "      <th></th>\n",
       "      <th></th>\n",
       "      <th></th>\n",
       "      <th></th>\n",
       "      <th></th>\n",
       "      <th></th>\n",
       "      <th></th>\n",
       "    </tr>\n",
       "  </thead>\n",
       "  <tbody>\n",
       "    <tr>\n",
       "      <th>Africa</th>\n",
       "      <td>[note 1]</td>\n",
       "      <td>30370000</td>\n",
       "      <td>11730000</td>\n",
       "      <td>20.4%</td>\n",
       "      <td>1287920000</td>\n",
       "      <td>16.9%</td>\n",
       "      <td>Lagos, Nigeria</td>\n",
       "    </tr>\n",
       "    <tr>\n",
       "      <th>Antarctica</th>\n",
       "      <td>[note 2]</td>\n",
       "      <td>14000000</td>\n",
       "      <td>5400000</td>\n",
       "      <td>9.2%</td>\n",
       "      <td>4,490[28]</td>\n",
       "      <td>0.0%</td>\n",
       "      <td>McMurdo Station</td>\n",
       "    </tr>\n",
       "    <tr>\n",
       "      <th>Asia</th>\n",
       "      <td>[note 3]</td>\n",
       "      <td>44579000</td>\n",
       "      <td>17212000</td>\n",
       "      <td>29.5%</td>\n",
       "      <td>4545133000</td>\n",
       "      <td>59.5%</td>\n",
       "      <td>Shanghai, China</td>\n",
       "    </tr>\n",
       "    <tr>\n",
       "      <th>Europe</th>\n",
       "      <td>[note 4]</td>\n",
       "      <td>10180000</td>\n",
       "      <td>3930000</td>\n",
       "      <td>6.8%</td>\n",
       "      <td>742648000</td>\n",
       "      <td>9.7%</td>\n",
       "      <td>Moscow, Russia[29]</td>\n",
       "    </tr>\n",
       "    <tr>\n",
       "      <th>North America</th>\n",
       "      <td>[note 5]</td>\n",
       "      <td>24709000</td>\n",
       "      <td>9540000</td>\n",
       "      <td>16.5%</td>\n",
       "      <td>587615000</td>\n",
       "      <td>7.7%</td>\n",
       "      <td>Mexico City, Mexico</td>\n",
       "    </tr>\n",
       "    <tr>\n",
       "      <th>Australia/Oceania</th>\n",
       "      <td>[note 6]</td>\n",
       "      <td>8600000</td>\n",
       "      <td>3300000</td>\n",
       "      <td>5.9%</td>\n",
       "      <td>41261000</td>\n",
       "      <td>0.5%</td>\n",
       "      <td>Sydney, Australia</td>\n",
       "    </tr>\n",
       "    <tr>\n",
       "      <th>South America</th>\n",
       "      <td>NaN</td>\n",
       "      <td>17840000</td>\n",
       "      <td>6890000</td>\n",
       "      <td>12.0%</td>\n",
       "      <td>428240000</td>\n",
       "      <td>5.6%</td>\n",
       "      <td>São Paulo, Brazil</td>\n",
       "    </tr>\n",
       "  </tbody>\n",
       "</table>\n",
       "</div>"
      ],
      "text/plain": [
       "                  Unnamed: 1  Area (km²)[not in citation given]  \\\n",
       "Continent                                                         \n",
       "Africa              [note 1]                           30370000   \n",
       "Antarctica          [note 2]                           14000000   \n",
       "Asia                [note 3]                           44579000   \n",
       "Europe              [note 4]                           10180000   \n",
       "North America       [note 5]                           24709000   \n",
       "Australia/Oceania   [note 6]                            8600000   \n",
       "South America            NaN                           17840000   \n",
       "\n",
       "                   Area (mi²)[not in citation given]  \\\n",
       "Continent                                              \n",
       "Africa                                      11730000   \n",
       "Antarctica                                   5400000   \n",
       "Asia                                        17212000   \n",
       "Europe                                       3930000   \n",
       "North America                                9540000   \n",
       "Australia/Oceania                            3300000   \n",
       "South America                                6890000   \n",
       "\n",
       "                  Percenttotallandmass[not in citation given]  Population  \\\n",
       "Continent                                                                   \n",
       "Africa                                                  20.4%  1287920000   \n",
       "Antarctica                                               9.2%   4,490[28]   \n",
       "Asia                                                    29.5%  4545133000   \n",
       "Europe                                                   6.8%   742648000   \n",
       "North America                                           16.5%   587615000   \n",
       "Australia/Oceania                                        5.9%    41261000   \n",
       "South America                                           12.0%   428240000   \n",
       "\n",
       "                  Percenttotal pop. Most populouscity (proper)  \n",
       "Continent                                                       \n",
       "Africa                        16.9%             Lagos, Nigeria  \n",
       "Antarctica                     0.0%            McMurdo Station  \n",
       "Asia                          59.5%            Shanghai, China  \n",
       "Europe                         9.7%         Moscow, Russia[29]  \n",
       "North America                  7.7%        Mexico City, Mexico  \n",
       "Australia/Oceania              0.5%          Sydney, Australia  \n",
       "South America                  5.6%          São Paulo, Brazil  "
      ]
     },
     "execution_count": 32,
     "metadata": {},
     "output_type": "execute_result"
    }
   ],
   "source": [
    "df = pd.read_html(io=\"https://en.wikipedia.org/wiki/Continent\", header=0, index_col=0)[2]\n",
    "df"
   ]
  },
  {
   "cell_type": "markdown",
   "metadata": {},
   "source": [
    "Now, there is one column that we do not need called `Unnamed: 1`. Let us drop this column."
   ]
  },
  {
   "cell_type": "code",
   "execution_count": 33,
   "metadata": {},
   "outputs": [
    {
     "data": {
      "text/html": [
       "<div>\n",
       "<style scoped>\n",
       "    .dataframe tbody tr th:only-of-type {\n",
       "        vertical-align: middle;\n",
       "    }\n",
       "\n",
       "    .dataframe tbody tr th {\n",
       "        vertical-align: top;\n",
       "    }\n",
       "\n",
       "    .dataframe thead th {\n",
       "        text-align: right;\n",
       "    }\n",
       "</style>\n",
       "<table border=\"1\" class=\"dataframe\">\n",
       "  <thead>\n",
       "    <tr style=\"text-align: right;\">\n",
       "      <th></th>\n",
       "      <th>Area (km²)[not in citation given]</th>\n",
       "      <th>Area (mi²)[not in citation given]</th>\n",
       "      <th>Percenttotallandmass[not in citation given]</th>\n",
       "      <th>Population</th>\n",
       "      <th>Percenttotal pop.</th>\n",
       "      <th>Most populouscity (proper)</th>\n",
       "    </tr>\n",
       "    <tr>\n",
       "      <th>Continent</th>\n",
       "      <th></th>\n",
       "      <th></th>\n",
       "      <th></th>\n",
       "      <th></th>\n",
       "      <th></th>\n",
       "      <th></th>\n",
       "    </tr>\n",
       "  </thead>\n",
       "  <tbody>\n",
       "    <tr>\n",
       "      <th>Africa</th>\n",
       "      <td>30370000</td>\n",
       "      <td>11730000</td>\n",
       "      <td>20.4%</td>\n",
       "      <td>1287920000</td>\n",
       "      <td>16.9%</td>\n",
       "      <td>Lagos, Nigeria</td>\n",
       "    </tr>\n",
       "    <tr>\n",
       "      <th>Antarctica</th>\n",
       "      <td>14000000</td>\n",
       "      <td>5400000</td>\n",
       "      <td>9.2%</td>\n",
       "      <td>4,490[28]</td>\n",
       "      <td>0.0%</td>\n",
       "      <td>McMurdo Station</td>\n",
       "    </tr>\n",
       "    <tr>\n",
       "      <th>Asia</th>\n",
       "      <td>44579000</td>\n",
       "      <td>17212000</td>\n",
       "      <td>29.5%</td>\n",
       "      <td>4545133000</td>\n",
       "      <td>59.5%</td>\n",
       "      <td>Shanghai, China</td>\n",
       "    </tr>\n",
       "    <tr>\n",
       "      <th>Europe</th>\n",
       "      <td>10180000</td>\n",
       "      <td>3930000</td>\n",
       "      <td>6.8%</td>\n",
       "      <td>742648000</td>\n",
       "      <td>9.7%</td>\n",
       "      <td>Moscow, Russia[29]</td>\n",
       "    </tr>\n",
       "    <tr>\n",
       "      <th>North America</th>\n",
       "      <td>24709000</td>\n",
       "      <td>9540000</td>\n",
       "      <td>16.5%</td>\n",
       "      <td>587615000</td>\n",
       "      <td>7.7%</td>\n",
       "      <td>Mexico City, Mexico</td>\n",
       "    </tr>\n",
       "    <tr>\n",
       "      <th>Australia/Oceania</th>\n",
       "      <td>8600000</td>\n",
       "      <td>3300000</td>\n",
       "      <td>5.9%</td>\n",
       "      <td>41261000</td>\n",
       "      <td>0.5%</td>\n",
       "      <td>Sydney, Australia</td>\n",
       "    </tr>\n",
       "    <tr>\n",
       "      <th>South America</th>\n",
       "      <td>17840000</td>\n",
       "      <td>6890000</td>\n",
       "      <td>12.0%</td>\n",
       "      <td>428240000</td>\n",
       "      <td>5.6%</td>\n",
       "      <td>São Paulo, Brazil</td>\n",
       "    </tr>\n",
       "  </tbody>\n",
       "</table>\n",
       "</div>"
      ],
      "text/plain": [
       "                   Area (km²)[not in citation given]  \\\n",
       "Continent                                              \n",
       "Africa                                      30370000   \n",
       "Antarctica                                  14000000   \n",
       "Asia                                        44579000   \n",
       "Europe                                      10180000   \n",
       "North America                               24709000   \n",
       "Australia/Oceania                            8600000   \n",
       "South America                               17840000   \n",
       "\n",
       "                   Area (mi²)[not in citation given]  \\\n",
       "Continent                                              \n",
       "Africa                                      11730000   \n",
       "Antarctica                                   5400000   \n",
       "Asia                                        17212000   \n",
       "Europe                                       3930000   \n",
       "North America                                9540000   \n",
       "Australia/Oceania                            3300000   \n",
       "South America                                6890000   \n",
       "\n",
       "                  Percenttotallandmass[not in citation given]  Population  \\\n",
       "Continent                                                                   \n",
       "Africa                                                  20.4%  1287920000   \n",
       "Antarctica                                               9.2%   4,490[28]   \n",
       "Asia                                                    29.5%  4545133000   \n",
       "Europe                                                   6.8%   742648000   \n",
       "North America                                           16.5%   587615000   \n",
       "Australia/Oceania                                        5.9%    41261000   \n",
       "South America                                           12.0%   428240000   \n",
       "\n",
       "                  Percenttotal pop. Most populouscity (proper)  \n",
       "Continent                                                       \n",
       "Africa                        16.9%             Lagos, Nigeria  \n",
       "Antarctica                     0.0%            McMurdo Station  \n",
       "Asia                          59.5%            Shanghai, China  \n",
       "Europe                         9.7%         Moscow, Russia[29]  \n",
       "North America                  7.7%        Mexico City, Mexico  \n",
       "Australia/Oceania              0.5%          Sydney, Australia  \n",
       "South America                  5.6%          São Paulo, Brazil  "
      ]
     },
     "execution_count": 33,
     "metadata": {},
     "output_type": "execute_result"
    }
   ],
   "source": [
    "df = df.drop(\"Unnamed: 1\", axis=1)\n",
    "df"
   ]
  },
  {
   "cell_type": "markdown",
   "metadata": {},
   "source": [
    "Pandas has several functions to obtain some basic information about properties of the data in the DataFrame, one of the is the `info` method."
   ]
  },
  {
   "cell_type": "code",
   "execution_count": 34,
   "metadata": {},
   "outputs": [
    {
     "name": "stdout",
     "output_type": "stream",
     "text": [
      "<class 'pandas.core.frame.DataFrame'>\n",
      "Index: 7 entries, Africa to South America\n",
      "Data columns (total 6 columns):\n",
      "Area (km²)[not in citation given]              7 non-null int64\n",
      "Area (mi²)[not in citation given]              7 non-null int64\n",
      "Percenttotallandmass[not in citation given]    7 non-null object\n",
      "Population                                     7 non-null object\n",
      "Percenttotal pop.                              7 non-null object\n",
      "Most populouscity (proper)                     7 non-null object\n",
      "dtypes: int64(2), object(4)\n",
      "memory usage: 392.0+ bytes\n"
     ]
    }
   ],
   "source": [
    "df.info()"
   ]
  },
  {
   "cell_type": "markdown",
   "metadata": {},
   "source": [
    "It shows that while some columns are actually numeric, most of them are not. Unless, there is categorical data stored in those columns, we must properly convert the values in these columns into floats or ints.\n",
    "\n",
    "For example, the Population column is not numeric, because it still contains the citation marker for the population fo Antartica. We first need to turn the column into numerics. A good way to do this is by using the apply function, which does nothing else, but applying some function of our choice to each element of a column."
   ]
  },
  {
   "cell_type": "markdown",
   "metadata": {},
   "source": [
    "Let us write a little function `convert_to_int` that turns strings into ints, unless the string is not numeric, in which case it will use `0`."
   ]
  },
  {
   "cell_type": "code",
   "execution_count": 35,
   "metadata": {},
   "outputs": [],
   "source": [
    "def convert_to_int(string):\n",
    "    if string.isdigit():\n",
    "        return int(string)\n",
    "    else:\n",
    "        return None"
   ]
  },
  {
   "cell_type": "markdown",
   "metadata": {},
   "source": [
    "Now all we need to do is pass our little function as argument into the apply function. (Indeed, we can use functions as function arguments. Pythonic awesomeness.)"
   ]
  },
  {
   "cell_type": "code",
   "execution_count": 36,
   "metadata": {},
   "outputs": [
    {
     "data": {
      "text/html": [
       "<div>\n",
       "<style scoped>\n",
       "    .dataframe tbody tr th:only-of-type {\n",
       "        vertical-align: middle;\n",
       "    }\n",
       "\n",
       "    .dataframe tbody tr th {\n",
       "        vertical-align: top;\n",
       "    }\n",
       "\n",
       "    .dataframe thead th {\n",
       "        text-align: right;\n",
       "    }\n",
       "</style>\n",
       "<table border=\"1\" class=\"dataframe\">\n",
       "  <thead>\n",
       "    <tr style=\"text-align: right;\">\n",
       "      <th></th>\n",
       "      <th>Area (km²)[not in citation given]</th>\n",
       "      <th>Area (mi²)[not in citation given]</th>\n",
       "      <th>Percenttotallandmass[not in citation given]</th>\n",
       "      <th>Population</th>\n",
       "      <th>Percenttotal pop.</th>\n",
       "      <th>Most populouscity (proper)</th>\n",
       "    </tr>\n",
       "    <tr>\n",
       "      <th>Continent</th>\n",
       "      <th></th>\n",
       "      <th></th>\n",
       "      <th></th>\n",
       "      <th></th>\n",
       "      <th></th>\n",
       "      <th></th>\n",
       "    </tr>\n",
       "  </thead>\n",
       "  <tbody>\n",
       "    <tr>\n",
       "      <th>Africa</th>\n",
       "      <td>30370000</td>\n",
       "      <td>11730000</td>\n",
       "      <td>20.4%</td>\n",
       "      <td>1.287920e+09</td>\n",
       "      <td>16.9%</td>\n",
       "      <td>Lagos, Nigeria</td>\n",
       "    </tr>\n",
       "    <tr>\n",
       "      <th>Antarctica</th>\n",
       "      <td>14000000</td>\n",
       "      <td>5400000</td>\n",
       "      <td>9.2%</td>\n",
       "      <td>NaN</td>\n",
       "      <td>0.0%</td>\n",
       "      <td>McMurdo Station</td>\n",
       "    </tr>\n",
       "    <tr>\n",
       "      <th>Asia</th>\n",
       "      <td>44579000</td>\n",
       "      <td>17212000</td>\n",
       "      <td>29.5%</td>\n",
       "      <td>4.545133e+09</td>\n",
       "      <td>59.5%</td>\n",
       "      <td>Shanghai, China</td>\n",
       "    </tr>\n",
       "    <tr>\n",
       "      <th>Europe</th>\n",
       "      <td>10180000</td>\n",
       "      <td>3930000</td>\n",
       "      <td>6.8%</td>\n",
       "      <td>7.426480e+08</td>\n",
       "      <td>9.7%</td>\n",
       "      <td>Moscow, Russia[29]</td>\n",
       "    </tr>\n",
       "    <tr>\n",
       "      <th>North America</th>\n",
       "      <td>24709000</td>\n",
       "      <td>9540000</td>\n",
       "      <td>16.5%</td>\n",
       "      <td>5.876150e+08</td>\n",
       "      <td>7.7%</td>\n",
       "      <td>Mexico City, Mexico</td>\n",
       "    </tr>\n",
       "    <tr>\n",
       "      <th>Australia/Oceania</th>\n",
       "      <td>8600000</td>\n",
       "      <td>3300000</td>\n",
       "      <td>5.9%</td>\n",
       "      <td>4.126100e+07</td>\n",
       "      <td>0.5%</td>\n",
       "      <td>Sydney, Australia</td>\n",
       "    </tr>\n",
       "    <tr>\n",
       "      <th>South America</th>\n",
       "      <td>17840000</td>\n",
       "      <td>6890000</td>\n",
       "      <td>12.0%</td>\n",
       "      <td>4.282400e+08</td>\n",
       "      <td>5.6%</td>\n",
       "      <td>São Paulo, Brazil</td>\n",
       "    </tr>\n",
       "  </tbody>\n",
       "</table>\n",
       "</div>"
      ],
      "text/plain": [
       "                   Area (km²)[not in citation given]  \\\n",
       "Continent                                              \n",
       "Africa                                      30370000   \n",
       "Antarctica                                  14000000   \n",
       "Asia                                        44579000   \n",
       "Europe                                      10180000   \n",
       "North America                               24709000   \n",
       "Australia/Oceania                            8600000   \n",
       "South America                               17840000   \n",
       "\n",
       "                   Area (mi²)[not in citation given]  \\\n",
       "Continent                                              \n",
       "Africa                                      11730000   \n",
       "Antarctica                                   5400000   \n",
       "Asia                                        17212000   \n",
       "Europe                                       3930000   \n",
       "North America                                9540000   \n",
       "Australia/Oceania                            3300000   \n",
       "South America                                6890000   \n",
       "\n",
       "                  Percenttotallandmass[not in citation given]    Population  \\\n",
       "Continent                                                                     \n",
       "Africa                                                  20.4%  1.287920e+09   \n",
       "Antarctica                                               9.2%           NaN   \n",
       "Asia                                                    29.5%  4.545133e+09   \n",
       "Europe                                                   6.8%  7.426480e+08   \n",
       "North America                                           16.5%  5.876150e+08   \n",
       "Australia/Oceania                                        5.9%  4.126100e+07   \n",
       "South America                                           12.0%  4.282400e+08   \n",
       "\n",
       "                  Percenttotal pop. Most populouscity (proper)  \n",
       "Continent                                                       \n",
       "Africa                        16.9%             Lagos, Nigeria  \n",
       "Antarctica                     0.0%            McMurdo Station  \n",
       "Asia                          59.5%            Shanghai, China  \n",
       "Europe                         9.7%         Moscow, Russia[29]  \n",
       "North America                  7.7%        Mexico City, Mexico  \n",
       "Australia/Oceania              0.5%          Sydney, Australia  \n",
       "South America                  5.6%          São Paulo, Brazil  "
      ]
     },
     "execution_count": 36,
     "metadata": {},
     "output_type": "execute_result"
    }
   ],
   "source": [
    "df[\"Population\"] = df[\"Population\"].apply(convert_to_int)\n",
    "df"
   ]
  },
  {
   "cell_type": "markdown",
   "metadata": {},
   "source": [
    "The table already looks like we can use it to produce some nice charts. Further cleaning, like removing percentage signs or citation artifacts will be left to a more advanced Pandas tutorial."
   ]
  },
  {
   "cell_type": "markdown",
   "metadata": {},
   "source": [
    "#### Exercises"
   ]
  },
  {
   "cell_type": "markdown",
   "metadata": {},
   "source": [
    "1. Drop the column with area in square miles. "
   ]
  },
  {
   "cell_type": "code",
   "execution_count": null,
   "metadata": {},
   "outputs": [],
   "source": []
  },
  {
   "cell_type": "markdown",
   "metadata": {},
   "source": [
    "2. Rename all columns by giving them concise names, like \"area\", \"pc total area\", etc."
   ]
  },
  {
   "cell_type": "code",
   "execution_count": null,
   "metadata": {},
   "outputs": [],
   "source": []
  },
  {
   "cell_type": "markdown",
   "metadata": {},
   "source": [
    "3. Write another function that strips the `%` from the columsn with percentages and then turns the numbers into proper decimal in the range [0,1]."
   ]
  },
  {
   "cell_type": "code",
   "execution_count": null,
   "metadata": {},
   "outputs": [],
   "source": []
  },
  {
   "cell_type": "markdown",
   "metadata": {},
   "source": [
    "### Visualizations"
   ]
  },
  {
   "cell_type": "markdown",
   "metadata": {},
   "source": [
    "#### Bar Charts\n",
    "\n",
    "Like a Series, a DataFrame offers the same plotting functionality. Except that we can now automatically plot two figures in one single plot."
   ]
  },
  {
   "cell_type": "code",
   "execution_count": null,
   "metadata": {},
   "outputs": [],
   "source": [
    "df[[\"pct total population\",\"pct total area\"]].plot.bar()"
   ]
  },
  {
   "cell_type": "markdown",
   "metadata": {},
   "source": [
    "Note that the null value for population in Antartica is simply ignored.\n",
    "\n",
    "If parameters provided by Pandas plotting are not sufficient for your needs, we can always grab the underlying Pyplot object."
   ]
  },
  {
   "cell_type": "code",
   "execution_count": null,
   "metadata": {},
   "outputs": [],
   "source": [
    "import matplotlib.pyplot as plt\n",
    "ax = df[[\"pct total population\",\"pct total area\"]].plot.bar()\n",
    "ax.set_xlabel(\"\")\n",
    "ax.set_ylabel(\"Percentage\")"
   ]
  },
  {
   "cell_type": "markdown",
   "metadata": {},
   "source": [
    "#### Tree maps\n",
    "\n",
    "Instead of a pie chart, let us plot a tree map of the land area covered by each continent. For this, we can import the package `squarify`. Note that colors are assigned randomly, so rerunning it will produce a different-looking plot."
   ]
  },
  {
   "cell_type": "code",
   "execution_count": null,
   "metadata": {},
   "outputs": [],
   "source": [
    "import squarify\n",
    "squarify.plot(sizes=df['area'], label=df.index)"
   ]
  },
  {
   "cell_type": "markdown",
   "metadata": {},
   "source": [
    "There are of course other types of plots that are readily available, but since, we"
   ]
  },
  {
   "cell_type": "markdown",
   "metadata": {},
   "source": [
    "#### Exercises"
   ]
  },
  {
   "cell_type": "markdown",
   "metadata": {},
   "source": [
    "1. Create two separate bar charts, one for population and one for area.  Make sure that \n",
    "\n",
    "\n",
    "- continents have the same colors in each plot,\n",
    "- both plots have a proper title.\n",
    "\n",
    "To get a better understanding of which options are available with Pandas plots, take a looks at the documentation of the `plot` function: https://pandas.pydata.org/pandas-docs/version/0.22/generated/pandas.DataFrame.plot.html"
   ]
  },
  {
   "cell_type": "code",
   "execution_count": null,
   "metadata": {},
   "outputs": [],
   "source": []
  },
  {
   "cell_type": "markdown",
   "metadata": {},
   "source": [
    "2. Create two horizontal, square subplots with a bar chart for population on the right and a bar chart of area on the left. Use the keyword argument `ax` to pass the Pyplot axes to the `bar` function. Make sure that \n",
    "\n",
    "\n",
    "- continents have the same colors in each plot,\n",
    "- both plots have a proper title,\n",
    "- none of the subplot has an x-axis label.\n",
    "\n",
    "Since, each ax is a Pyplot plot, take a look at available options for Matplotlib's `plot` function: https://matplotlib.org/api/_as_gen/matplotlib.pyplot.plot.html"
   ]
  },
  {
   "cell_type": "code",
   "execution_count": null,
   "metadata": {},
   "outputs": [],
   "source": []
  },
  {
   "cell_type": "markdown",
   "metadata": {},
   "source": [
    "### Combining DataFrames\n",
    "\n",
    "There are a number of commands for combining data frames with each other, most notabley `join`, `merge`, and `concat`. \n",
    "\n",
    "#### Join\n",
    "\n",
    "Suppose we have population and area information in two separate DataFrames."
   ]
  },
  {
   "cell_type": "code",
   "execution_count": null,
   "metadata": {},
   "outputs": [],
   "source": [
    "df_pop = df[[\"population\",\"pct total population\"]]\n",
    "df_area = df[[\"area\",\"pct total area\"]]"
   ]
  },
  {
   "cell_type": "markdown",
   "metadata": {},
   "source": [
    "As long, as both DataFrame have the same index, we can simply use `join`."
   ]
  },
  {
   "cell_type": "code",
   "execution_count": null,
   "metadata": {},
   "outputs": [],
   "source": [
    "df_pop.join(df_area)"
   ]
  },
  {
   "cell_type": "markdown",
   "metadata": {},
   "source": [
    "But what if DataFrames do not have the same index, for example, when values are missing? In this case, we need to  decide how to join the index information. There are four options:\n",
    "- **left**: use the index from the left DataFrame\n",
    "- **right**: use the index from the right DataFrame\n",
    "- **inner**: take the intersection of the two indices\n",
    "- **outer**: take the union of the two indices\n",
    "\n",
    "Again suppose we have population and area information in two separate DataFrames, but only for a subset of  continents in either slice."
   ]
  },
  {
   "cell_type": "code",
   "execution_count": null,
   "metadata": {},
   "outputs": [],
   "source": [
    "df_pop_sub = df_pop.loc[[\"Africa\", \"Asia\", \"Europe\", \"South America\"]]\n",
    "df_area_sub = df_area.loc[[\"Antarctica\", \"Asia\", \"Europe\", \"North America\"]]"
   ]
  },
  {
   "cell_type": "markdown",
   "metadata": {},
   "source": [
    "#### Merge\n",
    "\n",
    "Now, instead of using `join`, let us use `merge` instead, which additionally allows us to specify, which column to pick as the key. The default for `merge` is the inner join."
   ]
  },
  {
   "cell_type": "code",
   "execution_count": null,
   "metadata": {},
   "outputs": [],
   "source": [
    "pd.merge(df_pop_sub, df_area_sub, on=\"Continent\")"
   ]
  },
  {
   "cell_type": "markdown",
   "metadata": {},
   "source": [
    "If we only want to keep all rows of both DataFrame, we use the keyword `how=\"outer\"`."
   ]
  },
  {
   "cell_type": "code",
   "execution_count": null,
   "metadata": {},
   "outputs": [],
   "source": [
    "pd.merge(df_pop_sub, df_area_sub, on=\"Continent\", how=\"outer\")"
   ]
  },
  {
   "cell_type": "markdown",
   "metadata": {},
   "source": [
    "We can even use different key names for the left and the right DataFrame if this is a problem.\n",
    "\n",
    "#### Concatenate\n",
    "\n",
    "We can also stack DataFrames together along one axis, much like we can in Numpy with `np.r_` and `np.c_`. By default, concatenation happens row-wise (`axis=0`).\n",
    "\n",
    "Let us split our population DataFrame again, into an upper and lower part."
   ]
  },
  {
   "cell_type": "code",
   "execution_count": null,
   "metadata": {},
   "outputs": [],
   "source": [
    "df_upper = df.iloc[:4]\n",
    "df_lower = df.iloc[4:]"
   ]
  },
  {
   "cell_type": "markdown",
   "metadata": {},
   "source": [
    "Now, we can concatenate these two parts together to obtain the same DataFrame. Let us reverse the sequence of the concatenation, just to see what happens"
   ]
  },
  {
   "cell_type": "code",
   "execution_count": null,
   "metadata": {},
   "outputs": [],
   "source": [
    "pd.concat([df_lower,df_upper])"
   ]
  },
  {
   "cell_type": "markdown",
   "metadata": {},
   "source": [
    "As we can see, the two DataFrame have just be stacked on top of each other. We can do the same column-wise. Let us concantenate the two DataFrames with the area and population data. If we want to obtain the same behaviour as with `join` for the two DataFrames with indetical indices, we must concatenate column-wise (`axis=1`)."
   ]
  },
  {
   "cell_type": "code",
   "execution_count": null,
   "metadata": {},
   "outputs": [],
   "source": [
    "pd.concat([df_pop,df_area], axis=1)"
   ]
  },
  {
   "cell_type": "markdown",
   "metadata": {},
   "source": [
    "Note that both DataFrames either had the same column names or the dame index names. If this is not the case, using `merge` is the better choice."
   ]
  },
  {
   "cell_type": "markdown",
   "metadata": {},
   "source": [
    "### Grouping Records"
   ]
  },
  {
   "cell_type": "markdown",
   "metadata": {},
   "source": [
    "Another powerful feature in Pandas is grouping, which implements the split-apply-combine concept: http://www.jstatsoft.org/v40/i01/paper\n",
    "\n",
    "Grouping helps us to break up a data set into parts, so that we can run separate analysis on each part. If you are familiar with SQL's GROUP BY or Excel's Pivot table, Pandas `groupby` should look familiar.\n",
    "\n",
    "The `groupby` function creates group that belong to the same class by some column and then allows us to execute operations on them, like `sum`, `count`, etc."
   ]
  },
  {
   "cell_type": "markdown",
   "metadata": {},
   "source": [
    "Let us again grab data from Wikipedia, this time population by country: https://en.wikipedia.org/wiki/List_of_countries_by_population_(United_Nations)"
   ]
  },
  {
   "cell_type": "code",
   "execution_count": 37,
   "metadata": {},
   "outputs": [
    {
     "data": {
      "text/html": [
       "<div>\n",
       "<style scoped>\n",
       "    .dataframe tbody tr th:only-of-type {\n",
       "        vertical-align: middle;\n",
       "    }\n",
       "\n",
       "    .dataframe tbody tr th {\n",
       "        vertical-align: top;\n",
       "    }\n",
       "\n",
       "    .dataframe thead th {\n",
       "        text-align: right;\n",
       "    }\n",
       "</style>\n",
       "<table border=\"1\" class=\"dataframe\">\n",
       "  <thead>\n",
       "    <tr style=\"text-align: right;\">\n",
       "      <th></th>\n",
       "      <th>Country or area</th>\n",
       "      <th>UN continentalregion[2]</th>\n",
       "      <th>UN statisticalregion[2]</th>\n",
       "      <th>Population(1 July 2016)[3]</th>\n",
       "      <th>Population(1 July 2017)[3]</th>\n",
       "      <th>Change</th>\n",
       "    </tr>\n",
       "    <tr>\n",
       "      <th>Rank</th>\n",
       "      <th></th>\n",
       "      <th></th>\n",
       "      <th></th>\n",
       "      <th></th>\n",
       "      <th></th>\n",
       "      <th></th>\n",
       "    </tr>\n",
       "  </thead>\n",
       "  <tbody>\n",
       "    <tr>\n",
       "      <th>—</th>\n",
       "      <td>World</td>\n",
       "      <td>—</td>\n",
       "      <td>—</td>\n",
       "      <td>7466964280</td>\n",
       "      <td>7550262101</td>\n",
       "      <td>+1.1%</td>\n",
       "    </tr>\n",
       "    <tr>\n",
       "      <th>1</th>\n",
       "      <td>China[a]</td>\n",
       "      <td>Asia</td>\n",
       "      <td>Eastern Asia</td>\n",
       "      <td>1403500365</td>\n",
       "      <td>1409517397</td>\n",
       "      <td>+0.4%</td>\n",
       "    </tr>\n",
       "    <tr>\n",
       "      <th>2</th>\n",
       "      <td>India</td>\n",
       "      <td>Asia</td>\n",
       "      <td>Southern Asia</td>\n",
       "      <td>1324171354</td>\n",
       "      <td>1339180127</td>\n",
       "      <td>+1.1%</td>\n",
       "    </tr>\n",
       "    <tr>\n",
       "      <th>3</th>\n",
       "      <td>United States</td>\n",
       "      <td>Americas</td>\n",
       "      <td>Northern America</td>\n",
       "      <td>322179605</td>\n",
       "      <td>324459463</td>\n",
       "      <td>+0.7%</td>\n",
       "    </tr>\n",
       "    <tr>\n",
       "      <th>4</th>\n",
       "      <td>Indonesia</td>\n",
       "      <td>Asia</td>\n",
       "      <td>South-eastern Asia</td>\n",
       "      <td>261115456</td>\n",
       "      <td>263991379</td>\n",
       "      <td>+1.1%</td>\n",
       "    </tr>\n",
       "  </tbody>\n",
       "</table>\n",
       "</div>"
      ],
      "text/plain": [
       "     Country or area UN continentalregion[2] UN statisticalregion[2]  \\\n",
       "Rank                                                                   \n",
       "—              World                       —                       —   \n",
       "1           China[a]                    Asia            Eastern Asia   \n",
       "2              India                    Asia           Southern Asia   \n",
       "3      United States                Americas        Northern America   \n",
       "4          Indonesia                    Asia      South-eastern Asia   \n",
       "\n",
       "      Population(1 July 2016)[3]  Population(1 July 2017)[3] Change  \n",
       "Rank                                                                 \n",
       "—                     7466964280                  7550262101  +1.1%  \n",
       "1                     1403500365                  1409517397  +0.4%  \n",
       "2                     1324171354                  1339180127  +1.1%  \n",
       "3                      322179605                   324459463  +0.7%  \n",
       "4                      261115456                   263991379  +1.1%  "
      ]
     },
     "execution_count": 37,
     "metadata": {},
     "output_type": "execute_result"
    }
   ],
   "source": [
    "url = \"https://en.wikipedia.org/wiki/List_of_countries_by_population_(United_Nations)\"\n",
    "df2 = pd.read_html(io=url, header=0, index_col=0)[2]\n",
    "df2.head()"
   ]
  },
  {
   "cell_type": "markdown",
   "metadata": {},
   "source": [
    "Let us do a very quick cleaning of the data, by keeping only country name, continental region, and population. A very elegant way to wrap this into one line of code is by ways of methods chaining. This is a rather advanced feature, but you might find this useful if doing this more often."
   ]
  },
  {
   "cell_type": "code",
   "execution_count": 38,
   "metadata": {},
   "outputs": [
    {
     "data": {
      "text/html": [
       "<div>\n",
       "<style scoped>\n",
       "    .dataframe tbody tr th:only-of-type {\n",
       "        vertical-align: middle;\n",
       "    }\n",
       "\n",
       "    .dataframe tbody tr th {\n",
       "        vertical-align: top;\n",
       "    }\n",
       "\n",
       "    .dataframe thead th {\n",
       "        text-align: right;\n",
       "    }\n",
       "</style>\n",
       "<table border=\"1\" class=\"dataframe\">\n",
       "  <thead>\n",
       "    <tr style=\"text-align: right;\">\n",
       "      <th></th>\n",
       "      <th>continent</th>\n",
       "      <th>population</th>\n",
       "    </tr>\n",
       "    <tr>\n",
       "      <th>country</th>\n",
       "      <th></th>\n",
       "      <th></th>\n",
       "    </tr>\n",
       "  </thead>\n",
       "  <tbody>\n",
       "    <tr>\n",
       "      <th>China[a]</th>\n",
       "      <td>Asia</td>\n",
       "      <td>1403500365</td>\n",
       "    </tr>\n",
       "    <tr>\n",
       "      <th>India</th>\n",
       "      <td>Asia</td>\n",
       "      <td>1324171354</td>\n",
       "    </tr>\n",
       "    <tr>\n",
       "      <th>United States</th>\n",
       "      <td>Americas</td>\n",
       "      <td>322179605</td>\n",
       "    </tr>\n",
       "    <tr>\n",
       "      <th>Indonesia</th>\n",
       "      <td>Asia</td>\n",
       "      <td>261115456</td>\n",
       "    </tr>\n",
       "    <tr>\n",
       "      <th>Brazil</th>\n",
       "      <td>Americas</td>\n",
       "      <td>207652865</td>\n",
       "    </tr>\n",
       "  </tbody>\n",
       "</table>\n",
       "</div>"
      ],
      "text/plain": [
       "              continent  population\n",
       "country                            \n",
       "China[a]           Asia  1403500365\n",
       "India              Asia  1324171354\n",
       "United States  Americas   322179605\n",
       "Indonesia          Asia   261115456\n",
       "Brazil         Americas   207652865"
      ]
     },
     "execution_count": 38,
     "metadata": {},
     "output_type": "execute_result"
    }
   ],
   "source": [
    "df2 = (df2.iloc[:,[0,1,3]]\n",
    "        .rename(columns={df2.columns[0]:\"country\", df2.columns[1]:\"continent\", df2.columns[3]:\"population\"})\n",
    "        .set_index(\"country\")\n",
    "        .drop(\"World\", axis=0)\n",
    "      )\n",
    "df2.head()"
   ]
  },
  {
   "cell_type": "markdown",
   "metadata": {},
   "source": [
    "Unlike, the DataFrame containing only continents, this table does not distinguish between North and South America, and evidently does not contain Antarctica.\n",
    "\n",
    "Let us group the countries by continent and then compute the sum of the population on each continent."
   ]
  },
  {
   "cell_type": "code",
   "execution_count": 39,
   "metadata": {},
   "outputs": [
    {
     "data": {
      "text/html": [
       "<div>\n",
       "<style scoped>\n",
       "    .dataframe tbody tr th:only-of-type {\n",
       "        vertical-align: middle;\n",
       "    }\n",
       "\n",
       "    .dataframe tbody tr th {\n",
       "        vertical-align: top;\n",
       "    }\n",
       "\n",
       "    .dataframe thead th {\n",
       "        text-align: right;\n",
       "    }\n",
       "</style>\n",
       "<table border=\"1\" class=\"dataframe\">\n",
       "  <thead>\n",
       "    <tr style=\"text-align: right;\">\n",
       "      <th></th>\n",
       "      <th>population</th>\n",
       "    </tr>\n",
       "    <tr>\n",
       "      <th>continent</th>\n",
       "      <th></th>\n",
       "    </tr>\n",
       "  </thead>\n",
       "  <tbody>\n",
       "    <tr>\n",
       "      <th>Africa</th>\n",
       "      <td>1225080510</td>\n",
       "    </tr>\n",
       "    <tr>\n",
       "      <th>Americas</th>\n",
       "      <td>997642449</td>\n",
       "    </tr>\n",
       "    <tr>\n",
       "      <th>Asia</th>\n",
       "      <td>4462676731</td>\n",
       "    </tr>\n",
       "    <tr>\n",
       "      <th>Europe</th>\n",
       "      <td>744347158</td>\n",
       "    </tr>\n",
       "    <tr>\n",
       "      <th>Oceania</th>\n",
       "      <td>40117432</td>\n",
       "    </tr>\n",
       "  </tbody>\n",
       "</table>\n",
       "</div>"
      ],
      "text/plain": [
       "           population\n",
       "continent            \n",
       "Africa     1225080510\n",
       "Americas    997642449\n",
       "Asia       4462676731\n",
       "Europe      744347158\n",
       "Oceania      40117432"
      ]
     },
     "execution_count": 39,
     "metadata": {},
     "output_type": "execute_result"
    }
   ],
   "source": [
    "df2.groupby(\"continent\").sum()"
   ]
  },
  {
   "cell_type": "markdown",
   "metadata": {},
   "source": [
    "We can also obtain the largest country of each continent. The function `idxmax` is at our service for this case."
   ]
  },
  {
   "cell_type": "code",
   "execution_count": 40,
   "metadata": {},
   "outputs": [
    {
     "data": {
      "text/html": [
       "<div>\n",
       "<style scoped>\n",
       "    .dataframe tbody tr th:only-of-type {\n",
       "        vertical-align: middle;\n",
       "    }\n",
       "\n",
       "    .dataframe tbody tr th {\n",
       "        vertical-align: top;\n",
       "    }\n",
       "\n",
       "    .dataframe thead th {\n",
       "        text-align: right;\n",
       "    }\n",
       "</style>\n",
       "<table border=\"1\" class=\"dataframe\">\n",
       "  <thead>\n",
       "    <tr style=\"text-align: right;\">\n",
       "      <th></th>\n",
       "      <th>population</th>\n",
       "    </tr>\n",
       "    <tr>\n",
       "      <th>continent</th>\n",
       "      <th></th>\n",
       "    </tr>\n",
       "  </thead>\n",
       "  <tbody>\n",
       "    <tr>\n",
       "      <th>Africa</th>\n",
       "      <td>Nigeria</td>\n",
       "    </tr>\n",
       "    <tr>\n",
       "      <th>Americas</th>\n",
       "      <td>United States</td>\n",
       "    </tr>\n",
       "    <tr>\n",
       "      <th>Asia</th>\n",
       "      <td>China[a]</td>\n",
       "    </tr>\n",
       "    <tr>\n",
       "      <th>Europe</th>\n",
       "      <td>Russia</td>\n",
       "    </tr>\n",
       "    <tr>\n",
       "      <th>Oceania</th>\n",
       "      <td>Australia[g]</td>\n",
       "    </tr>\n",
       "  </tbody>\n",
       "</table>\n",
       "</div>"
      ],
      "text/plain": [
       "              population\n",
       "continent               \n",
       "Africa           Nigeria\n",
       "Americas   United States\n",
       "Asia            China[a]\n",
       "Europe            Russia\n",
       "Oceania     Australia[g]"
      ]
     },
     "execution_count": 40,
     "metadata": {},
     "output_type": "execute_result"
    }
   ],
   "source": [
    "df2.groupby(\"continent\").idxmax()"
   ]
  },
  {
   "cell_type": "markdown",
   "metadata": {},
   "source": [
    "#### Exercises"
   ]
  },
  {
   "cell_type": "markdown",
   "metadata": {},
   "source": [
    "1. Create a DataFrame `df_country` with the largest country on each continent. Make sure that the column label is `country`. "
   ]
  },
  {
   "cell_type": "code",
   "execution_count": null,
   "metadata": {},
   "outputs": [],
   "source": []
  },
  {
   "cell_type": "markdown",
   "metadata": {},
   "source": [
    "2. Create a DataFrame `df_merged` of the population of the largest country on each continent. Use `country` as its index."
   ]
  },
  {
   "cell_type": "code",
   "execution_count": null,
   "metadata": {},
   "outputs": [],
   "source": []
  },
  {
   "cell_type": "markdown",
   "metadata": {},
   "source": [
    "3. Create a DataFrame that sorts the result DataFrame by population in descending order."
   ]
  },
  {
   "cell_type": "code",
   "execution_count": null,
   "metadata": {},
   "outputs": [],
   "source": []
  },
  {
   "cell_type": "markdown",
   "metadata": {},
   "source": [
    "4. Create a horizontal bar chart of the countries with no legend."
   ]
  },
  {
   "cell_type": "code",
   "execution_count": null,
   "metadata": {},
   "outputs": [],
   "source": []
  },
  {
   "cell_type": "code",
   "execution_count": null,
   "metadata": {},
   "outputs": [],
   "source": []
  }
 ],
 "metadata": {
  "kernelspec": {
   "display_name": "Python 3",
   "language": "python",
   "name": "python3"
  },
  "language_info": {
   "codemirror_mode": {
    "name": "ipython",
    "version": 3
   },
   "file_extension": ".py",
   "mimetype": "text/x-python",
   "name": "python",
   "nbconvert_exporter": "python",
   "pygments_lexer": "ipython3",
   "version": "3.7.0"
  }
 },
 "nbformat": 4,
 "nbformat_minor": 2
}
